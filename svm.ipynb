{
 "cells": [
  {
   "cell_type": "code",
   "execution_count": 2,
   "metadata": {},
   "outputs": [
    {
     "name": "stderr",
     "output_type": "stream",
     "text": [
      "/Users/alanchang/opt/miniconda3/lib/python3.9/site-packages/sklearn/svm/_base.py:297: ConvergenceWarning: Solver terminated early (max_iter=1000).  Consider pre-processing your data with StandardScaler or MinMaxScaler.\n",
      "  warnings.warn(\n",
      "/Users/alanchang/opt/miniconda3/lib/python3.9/site-packages/sklearn/svm/_base.py:297: ConvergenceWarning: Solver terminated early (max_iter=1000).  Consider pre-processing your data with StandardScaler or MinMaxScaler.\n",
      "  warnings.warn(\n",
      "/Users/alanchang/opt/miniconda3/lib/python3.9/site-packages/sklearn/svm/_base.py:297: ConvergenceWarning: Solver terminated early (max_iter=1000).  Consider pre-processing your data with StandardScaler or MinMaxScaler.\n",
      "  warnings.warn(\n",
      "/Users/alanchang/opt/miniconda3/lib/python3.9/site-packages/sklearn/svm/_base.py:297: ConvergenceWarning: Solver terminated early (max_iter=1000).  Consider pre-processing your data with StandardScaler or MinMaxScaler.\n",
      "  warnings.warn(\n",
      "/Users/alanchang/opt/miniconda3/lib/python3.9/site-packages/sklearn/svm/_base.py:297: ConvergenceWarning: Solver terminated early (max_iter=1000).  Consider pre-processing your data with StandardScaler or MinMaxScaler.\n",
      "  warnings.warn(\n",
      "/Users/alanchang/opt/miniconda3/lib/python3.9/site-packages/sklearn/svm/_base.py:297: ConvergenceWarning: Solver terminated early (max_iter=1000).  Consider pre-processing your data with StandardScaler or MinMaxScaler.\n",
      "  warnings.warn(\n",
      "/Users/alanchang/opt/miniconda3/lib/python3.9/site-packages/sklearn/svm/_base.py:297: ConvergenceWarning: Solver terminated early (max_iter=1000).  Consider pre-processing your data with StandardScaler or MinMaxScaler.\n",
      "  warnings.warn(\n",
      "/Users/alanchang/opt/miniconda3/lib/python3.9/site-packages/sklearn/svm/_base.py:297: ConvergenceWarning: Solver terminated early (max_iter=1000).  Consider pre-processing your data with StandardScaler or MinMaxScaler.\n",
      "  warnings.warn(\n",
      "/Users/alanchang/opt/miniconda3/lib/python3.9/site-packages/sklearn/svm/_base.py:297: ConvergenceWarning: Solver terminated early (max_iter=1000).  Consider pre-processing your data with StandardScaler or MinMaxScaler.\n",
      "  warnings.warn(\n",
      "/Users/alanchang/opt/miniconda3/lib/python3.9/site-packages/sklearn/svm/_base.py:297: ConvergenceWarning: Solver terminated early (max_iter=1000).  Consider pre-processing your data with StandardScaler or MinMaxScaler.\n",
      "  warnings.warn(\n"
     ]
    },
    {
     "name": "stdout",
     "output_type": "stream",
     "text": [
      "Linear SVM:\n",
      "0.6369889937106917\n",
      "Polynomial SVM:\n",
      "0.5866745283018867\n",
      "Gaussian SVM:\n",
      "0.7223663522012579\n",
      "Logistic SVM:\n",
      "0.5176965408805032\n",
      "Laplacian SVM:\n",
      "[0.7875     0.77987421 0.76100629 0.83018868 0.79245283]\n",
      "0.7902044025157233\n"
     ]
    },
    {
     "name": "stderr",
     "output_type": "stream",
     "text": [
      "/Users/alanchang/opt/miniconda3/lib/python3.9/site-packages/sklearn/svm/_base.py:297: ConvergenceWarning: Solver terminated early (max_iter=1000).  Consider pre-processing your data with StandardScaler or MinMaxScaler.\n",
      "  warnings.warn(\n"
     ]
    }
   ],
   "source": [
    "import sklearn\n",
    "from sklearn import svm\n",
    "from sklearn import preprocessing\n",
    "from sklearn import metrics\n",
    "from sklearn import model_selection\n",
    "import numpy as np\n",
    "import csv\n",
    "import pandas as pd\n",
    "\n",
    "scaler = sklearn.preprocessing.StandardScaler()\n",
    "\n",
    "csv_training_data = pd.read_csv(\"training_data.csv\")\n",
    "training_data = csv_training_data.to_numpy()\n",
    "X_train = np.array(training_data[:,2:27],dtype=float)\n",
    "X_train_normalized = np.array(sklearn.preprocessing.normalize(training_data[:,2:27]),dtype=float)\n",
    "X_train_scaled = scaler.fit_transform(X_train)\n",
    "Y_train = np.array(training_data[:,27].transpose(), dtype=int)\n",
    "\n",
    "csv_test_data = pd.read_csv(\"testing_data.csv\")\n",
    "test_data = csv_test_data.to_numpy()\n",
    "X_test = np.array(test_data[:,2:27],dtype=float)\n",
    "X_test_normalized = np.array(sklearn.preprocessing.normalize(test_data[:,2:27]),dtype=float)\n",
    "X_test_scaled = scaler.fit_transform(X_test)\n",
    "Y_test = np.array(test_data[:,27].transpose(), dtype=int)\n",
    "\n",
    "svm_linear = sklearn.svm.SVC(kernel='linear',max_iter=1000)\n",
    "svm_linear = svm_linear.fit(X_train_scaled,Y_train)\n",
    "print(\"Linear SVM:\")\n",
    "scores = sklearn.model_selection.cross_val_score(svm_linear,X_test_scaled,Y_test,cv=5)\n",
    "print(scores.mean())\n",
    "\n",
    "svm_poly = sklearn.svm.SVC(kernel='poly', degree=2, gamma='auto', max_iter=1000)\n",
    "svm_poly = svm_poly.fit(X_train_scaled,Y_train)\n",
    "print(\"Polynomial SVM:\")\n",
    "scores = sklearn.model_selection.cross_val_score(svm_poly,X_test_scaled,Y_test,cv=5)\n",
    "print(scores.mean())\n",
    "\n",
    "svm_gaussian = sklearn.svm.SVC(kernel='rbf', gamma=0.35, max_iter=1000)\n",
    "svm_gaussian = svm_gaussian.fit(X_train_scaled,Y_train)\n",
    "print(\"Gaussian SVM:\")\n",
    "scores = sklearn.model_selection.cross_val_score(svm_gaussian,X_test_scaled,Y_test,cv=5)\n",
    "print(scores.mean())\n",
    "\n",
    "svm_sigmoid = sklearn.svm.SVC(kernel='sigmoid', gamma='auto', max_iter=1000)\n",
    "svm_sigmoid = svm_sigmoid.fit(X_train_scaled,Y_train)\n",
    "print(\"Logistic SVM:\")\n",
    "scores = sklearn.model_selection.cross_val_score(svm_sigmoid,X_test_scaled,Y_test,cv=5)\n",
    "print(scores.mean())\n",
    "\n",
    "svm_laplacian = sklearn.svm.SVC(kernel=sklearn.metrics.pairwise.laplacian_kernel, max_iter=1000)\n",
    "svm_laplacian = svm_laplacian.fit(X_train_scaled,Y_train)\n",
    "print(\"Laplacian SVM:\")\n",
    "scores = sklearn.model_selection.cross_val_score(svm_laplacian,X_test_scaled,Y_test,cv=5)\n",
    "print(scores.mean())"
   ]
  }
 ],
 "metadata": {
  "kernelspec": {
   "display_name": "base",
   "language": "python",
   "name": "python3"
  },
  "language_info": {
   "codemirror_mode": {
    "name": "ipython",
    "version": 3
   },
   "file_extension": ".py",
   "mimetype": "text/x-python",
   "name": "python",
   "nbconvert_exporter": "python",
   "pygments_lexer": "ipython3",
   "version": "3.undefined.undefined"
  }
 },
 "nbformat": 4,
 "nbformat_minor": 2
}
