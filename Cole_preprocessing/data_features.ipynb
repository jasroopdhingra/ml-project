{
 "cells": [
  {
   "cell_type": "code",
   "execution_count": 1,
   "metadata": {},
   "outputs": [],
   "source": [
    "import pandas as pd\n",
    "import os"
   ]
  },
  {
   "cell_type": "code",
   "execution_count": 2,
   "metadata": {},
   "outputs": [],
   "source": [
    "def build_data(file_names,directory):\n",
    "    df_Final = pd.DataFrame(columns=['PDB code','VDWAALS','EEL','EGB','ESURF','GGAS','GSOLV','TOTAL'])\n",
    "    for file in file_names:\n",
    "        df = pd.read_csv(directory+\"/\"+file,delimiter='\\t')\n",
    "        df = df.iloc[83:92, :]\n",
    "        df.drop([85,86],axis = 0,inplace=True)\n",
    "        l1 = [file[:4]]\n",
    "        for _,row in df.iterrows():\n",
    "            val = float(row.iloc[0].split()[1])\n",
    "            l1.append(val)\n",
    "        df_Final.loc[len(df_Final.index)] = l1\n",
    "    return df_Final\n",
    "\n",
    "def create_pairs(df):\n",
    "    df_Final = pd.DataFrame(columns=[\"PDB code 1\",\"VDWAALS 1\",\"EEL 1\",\"EGB 1\",\"ESURF 1\",\"GGAS 1\",\"GSOLV 1\",\"TOTAL 1\",\"PDB code 2\",\"VDWAALS 2\",\"EEL 2\",\"EGB 2\",\"ESURF 2\",\"GGAS 2\",\"GSOLV 2\",\"TOTAL 2\"])\n",
    "    for _ , row1 in df.iterrows():\n",
    "        for _ , row2 in df.iterrows():\n",
    "            if row1[\"PDB code\"] == row2[\"PDB code\"]:\n",
    "                continue\n",
    "            temp = row1.to_list() + row2.to_list()\n",
    "            df_Final.loc[len(df_Final.index)] = temp\n",
    "    return df_Final"
   ]
  },
  {
   "cell_type": "code",
   "execution_count": 4,
   "metadata": {},
   "outputs": [
    {
     "name": "stdout",
     "output_type": "stream",
     "text": [
      "   PDB code  VDWAALS       EEL       EGB  ESURF      GGAS     GSOLV   TOTAL\n",
      "0      4him  -114.69   -645.74    676.69 -13.70   -760.43    663.00  -97.43\n",
      "1      1u63  -279.25 -34181.81  34208.24 -41.36 -34461.07  34166.88 -294.19\n",
      "2      2kh9   -49.13   -508.76    534.32  -5.94   -557.89    528.38  -29.51\n",
      "3      1wwe   -89.90  -1356.54   1369.99 -11.95  -1446.44   1358.04  -88.40\n",
      "4      1osb  -563.32 -11193.39  11154.77 -72.18 -11756.71  11082.59 -674.11\n",
      "5      5yts   -57.48   -136.57    171.71  -7.00   -194.05    164.71  -29.34\n",
      "6      5wzk  -176.42    735.87   -706.76 -21.41    559.45   -728.16 -168.71\n",
      "7      1je8  -309.02 -25367.65  25386.51 -44.66 -25676.67  25341.85 -334.82\n",
      "8      4hik  -107.19   -610.01    637.28 -12.58   -717.20    624.71  -92.49\n",
      "9      5ytx   -62.74   -206.72    236.49  -7.07   -269.47    229.41  -40.05\n",
      "10     5wzg  -204.74    124.91    -79.29 -24.81    -79.83   -104.11 -183.93\n",
      "11     2l41   -31.83   -226.28    237.63  -4.44   -258.10    233.19  -24.91\n",
      "12     5wzj  -230.34    130.79    -82.34 -28.29    -99.55   -110.64 -210.19\n",
      "13     4hj8  -113.49   -720.46    739.96 -13.55   -833.96    726.41 -107.55\n",
      "14     5wwg   -88.97   -961.30    981.35 -10.73  -1050.27    970.62  -79.65\n",
      "15     1wwd   -69.90   -995.71   1011.87  -8.73  -1065.60   1003.13  -62.47\n",
      "16     1omh  -270.05  -5246.08   5238.97 -34.09  -5516.13   5204.88 -311.25\n",
      "17     1u6p   -82.73  -8405.99   8420.14 -11.19  -8488.72   8408.95  -79.77\n",
      "18     4pdb  -104.98  -3775.83   3832.27 -12.29  -3880.82   3819.98  -60.84\n",
      "19     2mkk  -104.70   -933.14    955.84 -14.51  -1037.84    941.33  -96.51\n",
      "20     5ytt   -75.96   -273.93    314.46  -8.79   -349.88    305.67  -44.22\n",
      "21     3moj  -118.26  -7867.57   7908.33 -15.61  -7985.83   7892.73  -93.10\n",
      "22     3rn2   -79.85 -13297.79  13326.09 -14.63 -13377.64  13311.46  -66.18\n",
      "23     2leb  -112.31   -763.97    770.91 -14.74   -876.28    756.17 -120.11\n",
      "24     4hio  -104.72   -605.86    634.38 -13.75   -710.59    620.63  -89.96\n",
      "25     2gkd   -34.48  -1506.27   1521.00  -5.32  -1540.75   1515.67  -25.08\n",
      "26     5z6z  -209.38  -9915.61   9869.33 -27.23 -10124.99   9842.11 -282.88\n",
      "27     1s03  -247.91 -10623.74  10708.88 -30.83 -10871.65  10678.05 -193.59\n",
      "28     1wwg   -75.82  -1272.75   1275.97 -11.37  -1348.57   1264.60  -83.97\n",
      "29     2b6g   -32.62  -2351.98   2361.59  -4.95  -2384.60   2356.64  -27.96\n",
      "30     1exd  -297.43   2853.31  -2769.40 -39.57   2555.87  -2808.97 -253.10\n",
      "31     1il2  -377.15  14928.76 -14798.97 -47.50  14551.61 -14846.48 -294.87\n",
      "32     4hid  -105.85   -795.86    820.61 -13.55   -901.71    807.06  -94.65\n",
      "33     1s40  -151.75  -1458.39   1510.73 -20.71  -1610.14   1490.02 -120.12\n",
      "34     2glo   -76.22  -4248.30   4260.04 -10.82  -4324.52   4249.23  -75.29\n",
      "35     4hj7  -117.45   -636.97    667.89 -13.99   -754.42    653.90 -100.52\n",
      "36     1zzi  -124.32  -1081.08   1111.28 -15.20  -1205.40   1096.08 -109.32\n",
      "37     2lec  -113.05   -619.56    647.62 -13.80   -732.61    633.82  -98.79\n",
      "38     5wwe   -78.63  -1194.77   1191.48 -10.79  -1273.40   1180.70  -92.70\n",
      "39     1wwf  -109.69  -1452.29   1473.77 -14.75  -1561.98   1459.02 -102.95\n",
      "40     2mki   -85.56   -260.76    305.67 -10.57   -346.32    295.11  -51.21\n",
      "41     5ytv   -45.47   -179.99    205.21  -5.59   -225.46    199.61  -25.84\n",
      "42     1rkj  -119.28   -801.67    834.16 -15.17   -920.95    818.99 -101.96\n"
     ]
    }
   ],
   "source": [
    "directory = \"complex_data_raw\"\n",
    "df = build_data(os.listdir(directory),directory)\n",
    "print(df)\n",
    "df = create_pairs(df)"
   ]
  },
  {
   "cell_type": "code",
   "execution_count": 8,
   "metadata": {},
   "outputs": [],
   "source": [
    "#df.to_csv(\"feature_data_1-6.csv\",index=False)\n"
   ]
  },
  {
   "cell_type": "code",
   "execution_count": null,
   "metadata": {},
   "outputs": [],
   "source": []
  }
 ],
 "metadata": {
  "kernelspec": {
   "display_name": "Python 3",
   "language": "python",
   "name": "python3"
  },
  "language_info": {
   "codemirror_mode": {
    "name": "ipython",
    "version": 3
   },
   "file_extension": ".py",
   "mimetype": "text/x-python",
   "name": "python",
   "nbconvert_exporter": "python",
   "pygments_lexer": "ipython3",
   "version": "3.9.7"
  }
 },
 "nbformat": 4,
 "nbformat_minor": 2
}
