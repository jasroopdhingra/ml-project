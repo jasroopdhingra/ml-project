{
 "cells": [
  {
   "cell_type": "code",
   "execution_count": 9,
   "metadata": {},
   "outputs": [],
   "source": [
    "import os\n",
    "import pandas as pd\n",
    "import numpy as np"
   ]
  },
  {
   "cell_type": "code",
   "execution_count": 15,
   "metadata": {},
   "outputs": [
    {
     "name": "stderr",
     "output_type": "stream",
     "text": [
      "/var/folders/1l/f_c0h5451133klkyry12ld9h0000gn/T/ipykernel_22556/2616438615.py:5: UserWarning: loadtxt: input contained no data: \"hbond_analysis/1je8/hblife.xvg\"\n",
      "  x = np.loadtxt(\"hbond_analysis/\" + complex+'/'+file,comments = ['@','#'])\n"
     ]
    }
   ],
   "source": [
    "l1 = os.listdir(\"hbond_analysis\")\n",
    "for complex in l1:\n",
    "    l2 = os.listdir(\"hbond_analysis/\" + complex)\n",
    "    for file in l2:\n",
    "        x = np.loadtxt(\"hbond_analysis/\" + complex+'/'+file,comments = ['@','#'])\n",
    "\n"
   ]
  },
  {
   "cell_type": "code",
   "execution_count": 16,
   "metadata": {},
   "outputs": [
    {
     "data": {
      "text/plain": [
       "array([[    0.,    54.,    22.],\n",
       "       [   10.,    50.,    23.],\n",
       "       [   20.,    53.,    28.],\n",
       "       ...,\n",
       "       [ 9980.,    47.,    30.],\n",
       "       [ 9990.,    47.,    32.],\n",
       "       [10000.,    47.,    27.]])"
      ]
     },
     "execution_count": 16,
     "metadata": {},
     "output_type": "execute_result"
    }
   ],
   "source": [
    "x"
   ]
  },
  {
   "cell_type": "code",
   "execution_count": 17,
   "metadata": {},
   "outputs": [
    {
     "data": {
      "text/plain": [
       "['1je8']"
      ]
     },
     "execution_count": 17,
     "metadata": {},
     "output_type": "execute_result"
    }
   ],
   "source": [
    "os.listdir(\"hbond_analysis\")"
   ]
  },
  {
   "cell_type": "code",
   "execution_count": null,
   "metadata": {},
   "outputs": [],
   "source": []
  }
 ],
 "metadata": {
  "kernelspec": {
   "display_name": "Python 3",
   "language": "python",
   "name": "python3"
  },
  "language_info": {
   "codemirror_mode": {
    "name": "ipython",
    "version": 3
   },
   "file_extension": ".py",
   "mimetype": "text/x-python",
   "name": "python",
   "nbconvert_exporter": "python",
   "pygments_lexer": "ipython3",
   "version": "3.9.7"
  }
 },
 "nbformat": 4,
 "nbformat_minor": 2
}
