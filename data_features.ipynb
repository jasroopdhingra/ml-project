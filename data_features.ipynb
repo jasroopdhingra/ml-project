{
 "cells": [
  {
   "cell_type": "code",
   "execution_count": 3,
   "metadata": {},
   "outputs": [],
   "source": [
    "import pandas as pd\n",
    "import os"
   ]
  },
  {
   "cell_type": "code",
   "execution_count": 6,
   "metadata": {},
   "outputs": [],
   "source": [
    "def build_data(file_names,directory):\n",
    "    df_Final = pd.DataFrame(columns=['PDB code','VDWAALS','EEL','EGB','ESURF','GGAS','GSOLV','TOTAL'])\n",
    "    for file in file_names:\n",
    "        df = pd.read_csv(directory+\"/\"+file,delimiter='\\t')\n",
    "        df = df.iloc[83:92, :]\n",
    "        df.drop([85,86],axis = 0,inplace=True)\n",
    "        l1 = [file[:4]]\n",
    "        for _,row in df.iterrows():\n",
    "            val = float(row.iloc[0].split()[1])\n",
    "            l1.append(val)\n",
    "        df_Final.loc[len(df_Final.index)] = l1\n",
    "    return df_Final\n",
    "\n",
    "def create_pairs(df):\n",
    "    df_Final = pd.DataFrame(columns=[\"PDB code 1\",\"VDWAALS 1\",\"EEL 1\",\"EGB 1\",\"ESURF 1\",\"GGAS 1\",\"GSOLV 1\",\"TOTAL 1\",\"PDB code 2\",\"VDWAALS 2\",\"EEL 2\",\"EGB 2\",\"ESURF 2\",\"GGAS 2\",\"GSOLV 2\",\"TOTAL 2\"])\n",
    "    for _ , row1 in df.iterrows():\n",
    "        for _ , row2 in df.iterrows():\n",
    "            if row1[\"PDB code\"] == row2[\"PDB code\"]:\n",
    "                continue\n",
    "            temp = row1.to_list() + row2.to_list()\n",
    "            df_Final.loc[len(df_Final.index)] = temp\n",
    "    return df_Final"
   ]
  },
  {
   "cell_type": "code",
   "execution_count": 7,
   "metadata": {},
   "outputs": [],
   "source": [
    "directory = \"complex_data_raw\"\n",
    "df = build_data(os.listdir(directory),directory)\n",
    "df = create_pairs(df)"
   ]
  },
  {
   "cell_type": "code",
   "execution_count": 8,
   "metadata": {},
   "outputs": [],
   "source": [
    "df.to_csv(\"feature_data_1-6.csv\",index=False)\n"
   ]
  },
  {
   "cell_type": "code",
   "execution_count": null,
   "metadata": {},
   "outputs": [],
   "source": []
  }
 ],
 "metadata": {
  "kernelspec": {
   "display_name": "Python 3",
   "language": "python",
   "name": "python3"
  },
  "language_info": {
   "codemirror_mode": {
    "name": "ipython",
    "version": 3
   },
   "file_extension": ".py",
   "mimetype": "text/x-python",
   "name": "python",
   "nbconvert_exporter": "python",
   "pygments_lexer": "ipython3",
   "version": "3.9.7"
  }
 },
 "nbformat": 4,
 "nbformat_minor": 2
}
