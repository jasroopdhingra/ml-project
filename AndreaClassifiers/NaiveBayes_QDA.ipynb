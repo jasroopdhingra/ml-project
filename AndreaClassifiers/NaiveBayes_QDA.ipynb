{
 "cells": [
  {
   "cell_type": "markdown",
   "metadata": {},
   "source": [
    "### Imports and data reading"
   ]
  },
  {
   "cell_type": "code",
   "execution_count": 33,
   "metadata": {},
   "outputs": [],
   "source": [
    "import numpy as np\n",
    "import pandas as pd\n",
    "import matplotlib.pyplot as plt\n",
    "from scipy.stats import f_oneway, ttest_ind\n",
    "from sklearn.compose import ColumnTransformer\n",
    "from sklearn.preprocessing import FunctionTransformer, StandardScaler, MinMaxScaler\n",
    "from sklearn.datasets import load_iris\n",
    "from sklearn.model_selection import train_test_split\n",
    "from sklearn.naive_bayes import GaussianNB, ComplementNB\n",
    "from sklearn.discriminant_analysis import QuadraticDiscriminantAnalysis\n",
    "from sklearn.ensemble import VotingClassifier, RandomForestClassifier\n",
    "from sklearn.pipeline import Pipeline, make_pipeline\n",
    "import seaborn as sns"
   ]
  },
  {
   "cell_type": "code",
   "execution_count": 34,
   "metadata": {},
   "outputs": [
    {
     "data": {
      "text/html": [
       "<div>\n",
       "<style scoped>\n",
       "    .dataframe tbody tr th:only-of-type {\n",
       "        vertical-align: middle;\n",
       "    }\n",
       "\n",
       "    .dataframe tbody tr th {\n",
       "        vertical-align: top;\n",
       "    }\n",
       "\n",
       "    .dataframe thead th {\n",
       "        text-align: right;\n",
       "    }\n",
       "</style>\n",
       "<table border=\"1\" class=\"dataframe\">\n",
       "  <thead>\n",
       "    <tr style=\"text-align: right;\">\n",
       "      <th></th>\n",
       "      <th>PDB codes</th>\n",
       "      <th>VDWAALS 1</th>\n",
       "      <th>EEL 1</th>\n",
       "      <th>EGB 1</th>\n",
       "      <th>ESURF 1</th>\n",
       "      <th>GGAS 1</th>\n",
       "      <th>GSOLV 1</th>\n",
       "      <th>TOTAL 1</th>\n",
       "      <th>hbdist_mean1</th>\n",
       "      <th>hbdist_std1</th>\n",
       "      <th>...</th>\n",
       "      <th>GGAS 2</th>\n",
       "      <th>GSOLV 2</th>\n",
       "      <th>TOTAL 2</th>\n",
       "      <th>hbdist_mean2</th>\n",
       "      <th>hbdist_std2</th>\n",
       "      <th>hbnum_mean2</th>\n",
       "      <th>hbnum_std2</th>\n",
       "      <th>hbnum_mean_&lt;.35_2</th>\n",
       "      <th>hbnum_std_&lt;.35_2</th>\n",
       "      <th>Output</th>\n",
       "    </tr>\n",
       "  </thead>\n",
       "  <tbody>\n",
       "    <tr>\n",
       "      <th>0</th>\n",
       "      <td>4hj8 , 2la5</td>\n",
       "      <td>2.857144</td>\n",
       "      <td>6.346850</td>\n",
       "      <td>15.364635</td>\n",
       "      <td>2.727722</td>\n",
       "      <td>14.530470</td>\n",
       "      <td>15.364635</td>\n",
       "      <td>-113.49</td>\n",
       "      <td>-720.46</td>\n",
       "      <td>739.96</td>\n",
       "      <td>...</td>\n",
       "      <td>20.680320</td>\n",
       "      <td>18.000000</td>\n",
       "      <td>-89.04</td>\n",
       "      <td>-3797.32</td>\n",
       "      <td>3785.39</td>\n",
       "      <td>-12.50</td>\n",
       "      <td>-3886.36</td>\n",
       "      <td>3772.90</td>\n",
       "      <td>-113.46</td>\n",
       "      <td>0</td>\n",
       "    </tr>\n",
       "    <tr>\n",
       "      <th>1</th>\n",
       "      <td>1osb , 2mki</td>\n",
       "      <td>2.857144</td>\n",
       "      <td>6.319618</td>\n",
       "      <td>87.585415</td>\n",
       "      <td>4.537219</td>\n",
       "      <td>65.985015</td>\n",
       "      <td>87.585415</td>\n",
       "      <td>-563.32</td>\n",
       "      <td>-11193.39</td>\n",
       "      <td>11154.77</td>\n",
       "      <td>...</td>\n",
       "      <td>11.741259</td>\n",
       "      <td>6.296703</td>\n",
       "      <td>-85.56</td>\n",
       "      <td>-260.76</td>\n",
       "      <td>305.67</td>\n",
       "      <td>-10.57</td>\n",
       "      <td>-346.32</td>\n",
       "      <td>295.11</td>\n",
       "      <td>-51.21</td>\n",
       "      <td>1</td>\n",
       "    </tr>\n",
       "    <tr>\n",
       "      <th>2</th>\n",
       "      <td>5wzj , 1je8</td>\n",
       "      <td>2.857143</td>\n",
       "      <td>5.946841</td>\n",
       "      <td>31.663337</td>\n",
       "      <td>2.959525</td>\n",
       "      <td>40.330669</td>\n",
       "      <td>31.663337</td>\n",
       "      <td>-230.34</td>\n",
       "      <td>130.79</td>\n",
       "      <td>-82.34</td>\n",
       "      <td>...</td>\n",
       "      <td>26.929071</td>\n",
       "      <td>49.412587</td>\n",
       "      <td>-309.02</td>\n",
       "      <td>-25367.65</td>\n",
       "      <td>25386.51</td>\n",
       "      <td>-44.66</td>\n",
       "      <td>-25676.67</td>\n",
       "      <td>25341.85</td>\n",
       "      <td>-334.82</td>\n",
       "      <td>0</td>\n",
       "    </tr>\n",
       "    <tr>\n",
       "      <th>3</th>\n",
       "      <td>3moj , 1wwd</td>\n",
       "      <td>2.857143</td>\n",
       "      <td>6.500905</td>\n",
       "      <td>13.814186</td>\n",
       "      <td>2.719199</td>\n",
       "      <td>18.559441</td>\n",
       "      <td>13.814186</td>\n",
       "      <td>-118.26</td>\n",
       "      <td>-7867.57</td>\n",
       "      <td>7908.33</td>\n",
       "      <td>...</td>\n",
       "      <td>9.180819</td>\n",
       "      <td>9.595405</td>\n",
       "      <td>-69.90</td>\n",
       "      <td>-995.71</td>\n",
       "      <td>1011.87</td>\n",
       "      <td>-8.73</td>\n",
       "      <td>-1065.60</td>\n",
       "      <td>1003.13</td>\n",
       "      <td>-62.47</td>\n",
       "      <td>1</td>\n",
       "    </tr>\n",
       "    <tr>\n",
       "      <th>4</th>\n",
       "      <td>3rn2 , 2kx5</td>\n",
       "      <td>2.857141</td>\n",
       "      <td>7.035113</td>\n",
       "      <td>16.630370</td>\n",
       "      <td>2.416485</td>\n",
       "      <td>7.082917</td>\n",
       "      <td>16.630370</td>\n",
       "      <td>-79.85</td>\n",
       "      <td>-13297.79</td>\n",
       "      <td>13326.09</td>\n",
       "      <td>...</td>\n",
       "      <td>20.099900</td>\n",
       "      <td>13.930070</td>\n",
       "      <td>-90.79</td>\n",
       "      <td>-5001.44</td>\n",
       "      <td>5006.58</td>\n",
       "      <td>-12.27</td>\n",
       "      <td>-5092.23</td>\n",
       "      <td>4994.32</td>\n",
       "      <td>-97.91</td>\n",
       "      <td>0</td>\n",
       "    </tr>\n",
       "  </tbody>\n",
       "</table>\n",
       "<p>5 rows × 28 columns</p>\n",
       "</div>"
      ],
      "text/plain": [
       "     PDB codes  VDWAALS 1     EEL 1      EGB 1   ESURF 1     GGAS 1  \\\n",
       "0  4hj8 , 2la5   2.857144  6.346850  15.364635  2.727722  14.530470   \n",
       "1  1osb , 2mki   2.857144  6.319618  87.585415  4.537219  65.985015   \n",
       "2  5wzj , 1je8   2.857143  5.946841  31.663337  2.959525  40.330669   \n",
       "3  3moj , 1wwd   2.857143  6.500905  13.814186  2.719199  18.559441   \n",
       "4  3rn2 , 2kx5   2.857141  7.035113  16.630370  2.416485   7.082917   \n",
       "\n",
       "     GSOLV 1  TOTAL 1  hbdist_mean1  hbdist_std1  ...     GGAS 2    GSOLV 2  \\\n",
       "0  15.364635  -113.49       -720.46       739.96  ...  20.680320  18.000000   \n",
       "1  87.585415  -563.32     -11193.39     11154.77  ...  11.741259   6.296703   \n",
       "2  31.663337  -230.34        130.79       -82.34  ...  26.929071  49.412587   \n",
       "3  13.814186  -118.26      -7867.57      7908.33  ...   9.180819   9.595405   \n",
       "4  16.630370   -79.85     -13297.79     13326.09  ...  20.099900  13.930070   \n",
       "\n",
       "   TOTAL 2  hbdist_mean2  hbdist_std2  hbnum_mean2  hbnum_std2  \\\n",
       "0   -89.04      -3797.32      3785.39       -12.50    -3886.36   \n",
       "1   -85.56       -260.76       305.67       -10.57     -346.32   \n",
       "2  -309.02     -25367.65     25386.51       -44.66   -25676.67   \n",
       "3   -69.90       -995.71      1011.87        -8.73    -1065.60   \n",
       "4   -90.79      -5001.44      5006.58       -12.27    -5092.23   \n",
       "\n",
       "   hbnum_mean_<.35_2  hbnum_std_<.35_2  Output  \n",
       "0            3772.90           -113.46       0  \n",
       "1             295.11            -51.21       1  \n",
       "2           25341.85           -334.82       0  \n",
       "3            1003.13            -62.47       1  \n",
       "4            4994.32            -97.91       0  \n",
       "\n",
       "[5 rows x 28 columns]"
      ]
     },
     "execution_count": 34,
     "metadata": {},
     "output_type": "execute_result"
    }
   ],
   "source": [
    "training_data = pd.read_csv(\"../training data.csv\")\n",
    "training_data.head()"
   ]
  },
  {
   "cell_type": "markdown",
   "metadata": {},
   "source": [
    "### Useful functions"
   ]
  },
  {
   "cell_type": "code",
   "execution_count": 35,
   "metadata": {},
   "outputs": [],
   "source": [
    "def cross_val(model, x, y, cv = 5, fit_params = None):\n",
    "    \"\"\"\n",
    "    It prints the mean of cross_val_score\n",
    "\n",
    "    \"\"\"\n",
    "    from sklearn.model_selection import cross_val_score\n",
    "    print(type(model))\n",
    "    score = cross_val_score(model, x, y, cv = cv, n_jobs = -1, fit_params = fit_params)\n",
    "    print(score)\n",
    "    print(\"mean of cross val score:\")\n",
    "    print(np.mean(score))\n",
    "    print()\n",
    "    print()\n",
    "\n",
    "def simple_test(model, x, y):\n",
    "    \"\"\"\n",
    "    For a model already trained\n",
    "    \"\"\"\n",
    "\n",
    "    from sklearn.metrics import f1_score, precision_score, recall_score, accuracy_score\n",
    "    from sklearn.metrics import confusion_matrix\n",
    "\n",
    "\n",
    "    y_pred = model.predict(x)\n",
    "\n",
    "    print(\"--------------results-----------------------------\")\n",
    "    print(\"accuracy\\t\", accuracy_score(y, y_pred))\n",
    "    print(\"f1 score\\t\", f1_score(y, y_pred))\n",
    "    print(\"precision\\t\", precision_score(y, y_pred))\n",
    "    print(\"recall\\t\\t\", recall_score(y, y_pred))\n",
    "    print(\"confusion matrix:\\n\", confusion_matrix(y, y_pred))\n",
    "    print()"
   ]
  },
  {
   "cell_type": "markdown",
   "metadata": {},
   "source": [
    "### Scaling the data"
   ]
  },
  {
   "cell_type": "code",
   "execution_count": 36,
   "metadata": {},
   "outputs": [
    {
     "data": {
      "text/html": [
       "<div>\n",
       "<style scoped>\n",
       "    .dataframe tbody tr th:only-of-type {\n",
       "        vertical-align: middle;\n",
       "    }\n",
       "\n",
       "    .dataframe tbody tr th {\n",
       "        vertical-align: top;\n",
       "    }\n",
       "\n",
       "    .dataframe thead th {\n",
       "        text-align: right;\n",
       "    }\n",
       "</style>\n",
       "<table border=\"1\" class=\"dataframe\">\n",
       "  <thead>\n",
       "    <tr style=\"text-align: right;\">\n",
       "      <th></th>\n",
       "      <th>0</th>\n",
       "      <th>1</th>\n",
       "      <th>2</th>\n",
       "      <th>3</th>\n",
       "      <th>4</th>\n",
       "      <th>5</th>\n",
       "      <th>6</th>\n",
       "      <th>7</th>\n",
       "      <th>8</th>\n",
       "      <th>9</th>\n",
       "      <th>...</th>\n",
       "      <th>17</th>\n",
       "      <th>18</th>\n",
       "      <th>19</th>\n",
       "      <th>20</th>\n",
       "      <th>21</th>\n",
       "      <th>22</th>\n",
       "      <th>23</th>\n",
       "      <th>24</th>\n",
       "      <th>25</th>\n",
       "      <th>Output</th>\n",
       "    </tr>\n",
       "  </thead>\n",
       "  <tbody>\n",
       "    <tr>\n",
       "      <th>0</th>\n",
       "      <td>0.734848</td>\n",
       "      <td>0.567790</td>\n",
       "      <td>0.138163</td>\n",
       "      <td>0.411012</td>\n",
       "      <td>0.142672</td>\n",
       "      <td>0.138163</td>\n",
       "      <td>0.846356</td>\n",
       "      <td>0.681347</td>\n",
       "      <td>0.317074</td>\n",
       "      <td>0.865515</td>\n",
       "      <td>...</td>\n",
       "      <td>0.219425</td>\n",
       "      <td>0.165335</td>\n",
       "      <td>0.892359</td>\n",
       "      <td>0.618696</td>\n",
       "      <td>0.379217</td>\n",
       "      <td>0.881016</td>\n",
       "      <td>0.623812</td>\n",
       "      <td>0.379884</td>\n",
       "      <td>0.881157</td>\n",
       "      <td>0</td>\n",
       "    </tr>\n",
       "    <tr>\n",
       "      <th>1</th>\n",
       "      <td>0.738889</td>\n",
       "      <td>0.550689</td>\n",
       "      <td>0.882776</td>\n",
       "      <td>0.867288</td>\n",
       "      <td>0.784851</td>\n",
       "      <td>0.882776</td>\n",
       "      <td>0.000000</td>\n",
       "      <td>0.468095</td>\n",
       "      <td>0.529590</td>\n",
       "      <td>0.000000</td>\n",
       "      <td>...</td>\n",
       "      <td>0.107861</td>\n",
       "      <td>0.044671</td>\n",
       "      <td>0.898907</td>\n",
       "      <td>0.690708</td>\n",
       "      <td>0.308213</td>\n",
       "      <td>0.909507</td>\n",
       "      <td>0.696039</td>\n",
       "      <td>0.308928</td>\n",
       "      <td>0.964703</td>\n",
       "      <td>1</td>\n",
       "    </tr>\n",
       "    <tr>\n",
       "      <th>2</th>\n",
       "      <td>0.680808</td>\n",
       "      <td>0.316596</td>\n",
       "      <td>0.306207</td>\n",
       "      <td>0.469462</td>\n",
       "      <td>0.464672</td>\n",
       "      <td>0.306207</td>\n",
       "      <td>0.626503</td>\n",
       "      <td>0.698681</td>\n",
       "      <td>0.300295</td>\n",
       "      <td>0.647919</td>\n",
       "      <td>...</td>\n",
       "      <td>0.297413</td>\n",
       "      <td>0.489206</td>\n",
       "      <td>0.478466</td>\n",
       "      <td>0.179476</td>\n",
       "      <td>0.819991</td>\n",
       "      <td>0.406259</td>\n",
       "      <td>0.179227</td>\n",
       "      <td>0.819946</td>\n",
       "      <td>0.584069</td>\n",
       "      <td>0</td>\n",
       "    </tr>\n",
       "    <tr>\n",
       "      <th>3</th>\n",
       "      <td>0.665657</td>\n",
       "      <td>0.664532</td>\n",
       "      <td>0.122178</td>\n",
       "      <td>0.408863</td>\n",
       "      <td>0.192956</td>\n",
       "      <td>0.122178</td>\n",
       "      <td>0.837382</td>\n",
       "      <td>0.535816</td>\n",
       "      <td>0.463346</td>\n",
       "      <td>0.835105</td>\n",
       "      <td>...</td>\n",
       "      <td>0.075905</td>\n",
       "      <td>0.078681</td>\n",
       "      <td>0.928371</td>\n",
       "      <td>0.675743</td>\n",
       "      <td>0.322623</td>\n",
       "      <td>0.936670</td>\n",
       "      <td>0.681364</td>\n",
       "      <td>0.323373</td>\n",
       "      <td>0.949591</td>\n",
       "      <td>1</td>\n",
       "    </tr>\n",
       "    <tr>\n",
       "      <th>4</th>\n",
       "      <td>0.328788</td>\n",
       "      <td>1.000000</td>\n",
       "      <td>0.151213</td>\n",
       "      <td>0.332531</td>\n",
       "      <td>0.049723</td>\n",
       "      <td>0.151213</td>\n",
       "      <td>0.909650</td>\n",
       "      <td>0.425245</td>\n",
       "      <td>0.573896</td>\n",
       "      <td>0.849572</td>\n",
       "      <td>...</td>\n",
       "      <td>0.212181</td>\n",
       "      <td>0.123373</td>\n",
       "      <td>0.889067</td>\n",
       "      <td>0.594177</td>\n",
       "      <td>0.404135</td>\n",
       "      <td>0.884411</td>\n",
       "      <td>0.599209</td>\n",
       "      <td>0.404804</td>\n",
       "      <td>0.902027</td>\n",
       "      <td>0</td>\n",
       "    </tr>\n",
       "  </tbody>\n",
       "</table>\n",
       "<p>5 rows × 27 columns</p>\n",
       "</div>"
      ],
      "text/plain": [
       "          0         1         2         3         4         5         6  \\\n",
       "0  0.734848  0.567790  0.138163  0.411012  0.142672  0.138163  0.846356   \n",
       "1  0.738889  0.550689  0.882776  0.867288  0.784851  0.882776  0.000000   \n",
       "2  0.680808  0.316596  0.306207  0.469462  0.464672  0.306207  0.626503   \n",
       "3  0.665657  0.664532  0.122178  0.408863  0.192956  0.122178  0.837382   \n",
       "4  0.328788  1.000000  0.151213  0.332531  0.049723  0.151213  0.909650   \n",
       "\n",
       "          7         8         9  ...        17        18        19        20  \\\n",
       "0  0.681347  0.317074  0.865515  ...  0.219425  0.165335  0.892359  0.618696   \n",
       "1  0.468095  0.529590  0.000000  ...  0.107861  0.044671  0.898907  0.690708   \n",
       "2  0.698681  0.300295  0.647919  ...  0.297413  0.489206  0.478466  0.179476   \n",
       "3  0.535816  0.463346  0.835105  ...  0.075905  0.078681  0.928371  0.675743   \n",
       "4  0.425245  0.573896  0.849572  ...  0.212181  0.123373  0.889067  0.594177   \n",
       "\n",
       "         21        22        23        24        25  Output  \n",
       "0  0.379217  0.881016  0.623812  0.379884  0.881157       0  \n",
       "1  0.308213  0.909507  0.696039  0.308928  0.964703       1  \n",
       "2  0.819991  0.406259  0.179227  0.819946  0.584069       0  \n",
       "3  0.322623  0.936670  0.681364  0.323373  0.949591       1  \n",
       "4  0.404135  0.884411  0.599209  0.404804  0.902027       0  \n",
       "\n",
       "[5 rows x 27 columns]"
      ]
     },
     "execution_count": 36,
     "metadata": {},
     "output_type": "execute_result"
    }
   ],
   "source": [
    "scaler = MinMaxScaler()\n",
    "scaled_training_data = pd.DataFrame(scaler.fit_transform(training_data.iloc[:,1:-1]))\n",
    "scaled_training_data['Output'] = training_data.iloc[:,-1]\n",
    "scaled_training_data.head()"
   ]
  },
  {
   "cell_type": "code",
   "execution_count": 37,
   "metadata": {},
   "outputs": [
    {
     "data": {
      "image/png": "[encoded data removed]",
      "text/plain": [
       "<Figure size 640x480 with 1 Axes>"
      ]
     },
     "metadata": {},
     "output_type": "display_data"
    }
   ],
   "source": [
    "plt.plot(range(len(scaled_training_data)), scaled_training_data.iloc[:,0])\n",
    "plt.show()"
   ]
  },
  {
   "cell_type": "markdown",
   "metadata": {},
   "source": [
    "### Analysis of features"
   ]
  },
  {
   "cell_type": "code",
   "execution_count": 38,
   "metadata": {},
   "outputs": [
    {
     "name": "stdout",
     "output_type": "stream",
     "text": [
      "p_values: [1.87379840e-20 2.74256506e-20 2.78856639e-20 2.92797218e-20\n",
      " 7.58766706e-20 1.07012167e-19 1.08510365e-19 1.11830050e-19\n",
      " 7.14261427e-11 8.65570640e-10 4.27424949e-08 5.95304522e-08\n",
      " 3.47348395e-07 5.37653730e-07 5.71579143e-07 7.25320466e-07\n",
      " 2.63081180e-05 3.32922989e-05 3.32922989e-05 9.36062854e-05\n",
      " 1.47453799e-04 1.96614933e-04 3.18383556e-04 3.18383556e-04\n",
      " 2.70282952e-01 4.48029726e-01]\n",
      "\n",
      "Features in order of statistical significance:\n",
      " Index(['hbnum_std2', 'hbdist_mean2', 'hbdist_std2', 'hbnum_mean_<.35_2',\n",
      "       'hbnum_std1', 'hbdist_std1', 'hbdist_mean1', 'hbnum_mean_<.35_1',\n",
      "       'ESURF 2', 'ESURF 1', 'hbnum_mean2', 'hbnum_mean1', 'hbnum_std_<.35_2',\n",
      "       'TOTAL 2', 'TOTAL 1', 'hbnum_std_<.35_1', 'EEL 1', 'GSOLV 2', 'EGB 2',\n",
      "       'EEL 2', 'GGAS 2', 'GGAS 1', 'GSOLV 1', 'EGB 1', 'VDWAALS 1',\n",
      "       'VDWAALS 2'],\n",
      "      dtype='object')\n"
     ]
    }
   ],
   "source": [
    "# Calculate p-values using ANOVA\n",
    "_, p_values_anova = f_oneway(scaled_training_data.iloc[:,:-1][scaled_training_data['Output'] == 1], scaled_training_data.iloc[:,:-1][scaled_training_data['Output'] == 0])\n",
    "\n",
    "# Calculate p-values using t-test (idea is similar to ANOVA, could also be exluded)\n",
    "_, p_values_ttest = ttest_ind(scaled_training_data.iloc[:,:-1][scaled_training_data['Output'] == 1], scaled_training_data.iloc[:,:-1][scaled_training_data['Output'] == 0])\n",
    "\n",
    "# Combine p-values (if desired)\n",
    "# Using minimum p-value as a combination method\n",
    "p_values_combined = np.minimum(p_values_anova, p_values_ttest)\n",
    "print('p_values:', np.sort(p_values_combined))\n",
    "print()\n",
    "\n",
    "# Sort features based on p-values\n",
    "sorted_features = np.argsort(p_values_combined)\n",
    "print('Features in order of statistical significance:\\n', training_data.columns[sorted_features+1])"
   ]
  },
  {
   "cell_type": "markdown",
   "metadata": {},
   "source": [
    "### Naive Bayes"
   ]
  },
  {
   "cell_type": "code",
   "execution_count": 39,
   "metadata": {},
   "outputs": [],
   "source": [
    "X_train, y_train = scaled_training_data.iloc[:,:-1], scaled_training_data.iloc[:,-1]\n",
    "X_train.columns = ['VDWAALS 1', 'EEL 1', 'EGB 1', 'ESURF 1', 'GGAS 1',\n",
    "       'GSOLV 1', 'TOTAL 1', 'hbdist_mean1', 'hbdist_std1', 'hbnum_mean1',\n",
    "       'hbnum_std1', 'hbnum_mean_<.35_1', 'hbnum_std_<.35_1', 'VDWAALS 2',\n",
    "       'EEL 2', 'EGB 2', 'ESURF 2', 'GGAS 2', 'GSOLV 2', 'TOTAL 2',\n",
    "       'hbdist_mean2', 'hbdist_std2', 'hbnum_mean2', 'hbnum_std2',\n",
    "       'hbnum_mean_<.35_2', 'hbnum_std_<.35_2']"
   ]
  },
  {
   "cell_type": "code",
   "execution_count": 40,
   "metadata": {},
   "outputs": [
    {
     "name": "stdout",
     "output_type": "stream",
     "text": [
      "<class 'sklearn.naive_bayes.GaussianNB'>\n",
      "[0.62096774 0.61455526 0.60377358 0.606469   0.56334232]\n",
      "mean of cross val score:\n",
      "0.6018215807321103\n",
      "\n",
      "\n"
     ]
    }
   ],
   "source": [
    "gnb = GaussianNB()\n",
    "cross_val(gnb, X_train, y_train)"
   ]
  },
  {
   "cell_type": "code",
   "execution_count": 41,
   "metadata": {},
   "outputs": [
    {
     "name": "stdout",
     "output_type": "stream",
     "text": [
      "<class 'sklearn.naive_bayes.ComplementNB'>\n",
      "[0.65053763 0.606469   0.66576819 0.60916442 0.60916442]\n",
      "mean of cross val score:\n",
      "0.6282207344288903\n",
      "\n",
      "\n"
     ]
    }
   ],
   "source": [
    "cnb = ComplementNB()\n",
    "cross_val(cnb, X_train, y_train)"
   ]
  },
  {
   "cell_type": "markdown",
   "metadata": {},
   "source": [
    "### Quadratic Discriminant Analysis"
   ]
  },
  {
   "cell_type": "code",
   "execution_count": 42,
   "metadata": {},
   "outputs": [
    {
     "name": "stdout",
     "output_type": "stream",
     "text": [
      "<class 'sklearn.discriminant_analysis.QuadraticDiscriminantAnalysis'>\n",
      "[0.68548387 0.59838275 0.5606469  0.74932615 0.73584906]\n",
      "mean of cross val score:\n",
      "0.6659377445439527\n",
      "\n",
      "\n"
     ]
    }
   ],
   "source": [
    "qda = QuadraticDiscriminantAnalysis()\n",
    "cross_val(qda, X_train, y_train)"
   ]
  },
  {
   "cell_type": "markdown",
   "metadata": {},
   "source": [
    "### Dropping features resulted non-significant"
   ]
  },
  {
   "cell_type": "code",
   "execution_count": 43,
   "metadata": {},
   "outputs": [
    {
     "data": {
      "text/plain": [
       "Index(['PDB codes', 'VDWAALS 1', 'EEL 1', 'EGB 1', 'ESURF 1', 'GGAS 1',\n",
       "       'GSOLV 1', 'TOTAL 1', 'hbdist_mean1', 'hbdist_std1', 'hbnum_mean1',\n",
       "       'hbnum_std1', 'hbnum_mean_<.35_1', 'hbnum_std_<.35_1', 'VDWAALS 2',\n",
       "       'EEL 2', 'EGB 2', 'ESURF 2', 'GGAS 2', 'GSOLV 2', 'TOTAL 2',\n",
       "       'hbdist_mean2', 'hbdist_std2', 'hbnum_mean2', 'hbnum_std2',\n",
       "       'hbnum_mean_<.35_2', 'hbnum_std_<.35_2', 'Output'],\n",
       "      dtype='object')"
      ]
     },
     "execution_count": 43,
     "metadata": {},
     "output_type": "execute_result"
    }
   ],
   "source": [
    "training_data.columns"
   ]
  },
  {
   "cell_type": "code",
   "execution_count": 44,
   "metadata": {},
   "outputs": [],
   "source": [
    "significant_training_data = training_data[['EEL 1', 'EGB 1', 'ESURF 1', 'GGAS 1',\n",
    "       'GSOLV 1', 'TOTAL 1', 'hbdist_mean1', 'hbdist_std1', 'hbnum_mean1',\n",
    "       'hbnum_std1', 'hbnum_mean_<.35_1', 'hbnum_std_<.35_1',\n",
    "       'EEL 2', 'EGB 2', 'ESURF 2', 'GGAS 2', 'GSOLV 2', 'TOTAL 2',\n",
    "       'hbdist_mean2', 'hbdist_std2', 'hbnum_mean2', 'hbnum_std2',\n",
    "       'hbnum_mean_<.35_2', 'hbnum_std_<.35_2', 'Output']]"
   ]
  },
  {
   "cell_type": "code",
   "execution_count": 45,
   "metadata": {},
   "outputs": [],
   "source": [
    "significant_training_data.to_csv(\"ANOVAsignificant_trainingdata.csv\",index=False)"
   ]
  },
  {
   "cell_type": "code",
   "execution_count": 46,
   "metadata": {},
   "outputs": [
    {
     "data": {
      "text/html": [
       "<div>\n",
       "<style scoped>\n",
       "    .dataframe tbody tr th:only-of-type {\n",
       "        vertical-align: middle;\n",
       "    }\n",
       "\n",
       "    .dataframe tbody tr th {\n",
       "        vertical-align: top;\n",
       "    }\n",
       "\n",
       "    .dataframe thead th {\n",
       "        text-align: right;\n",
       "    }\n",
       "</style>\n",
       "<table border=\"1\" class=\"dataframe\">\n",
       "  <thead>\n",
       "    <tr style=\"text-align: right;\">\n",
       "      <th></th>\n",
       "      <th>0</th>\n",
       "      <th>1</th>\n",
       "      <th>2</th>\n",
       "      <th>3</th>\n",
       "      <th>4</th>\n",
       "      <th>5</th>\n",
       "      <th>6</th>\n",
       "      <th>7</th>\n",
       "      <th>8</th>\n",
       "      <th>9</th>\n",
       "      <th>...</th>\n",
       "      <th>14</th>\n",
       "      <th>15</th>\n",
       "      <th>16</th>\n",
       "      <th>17</th>\n",
       "      <th>18</th>\n",
       "      <th>19</th>\n",
       "      <th>20</th>\n",
       "      <th>21</th>\n",
       "      <th>22</th>\n",
       "      <th>Output</th>\n",
       "    </tr>\n",
       "  </thead>\n",
       "  <tbody>\n",
       "    <tr>\n",
       "      <th>0</th>\n",
       "      <td>0.138163</td>\n",
       "      <td>0.411012</td>\n",
       "      <td>0.142672</td>\n",
       "      <td>0.138163</td>\n",
       "      <td>0.846356</td>\n",
       "      <td>0.681347</td>\n",
       "      <td>0.317074</td>\n",
       "      <td>0.865515</td>\n",
       "      <td>0.686090</td>\n",
       "      <td>0.317727</td>\n",
       "      <td>...</td>\n",
       "      <td>0.219425</td>\n",
       "      <td>0.165335</td>\n",
       "      <td>0.892359</td>\n",
       "      <td>0.618696</td>\n",
       "      <td>0.379217</td>\n",
       "      <td>0.881016</td>\n",
       "      <td>0.623812</td>\n",
       "      <td>0.379884</td>\n",
       "      <td>0.881157</td>\n",
       "      <td>0</td>\n",
       "    </tr>\n",
       "    <tr>\n",
       "      <th>1</th>\n",
       "      <td>0.882776</td>\n",
       "      <td>0.867288</td>\n",
       "      <td>0.784851</td>\n",
       "      <td>0.882776</td>\n",
       "      <td>0.000000</td>\n",
       "      <td>0.468095</td>\n",
       "      <td>0.529590</td>\n",
       "      <td>0.000000</td>\n",
       "      <td>0.463234</td>\n",
       "      <td>0.529020</td>\n",
       "      <td>...</td>\n",
       "      <td>0.107861</td>\n",
       "      <td>0.044671</td>\n",
       "      <td>0.898907</td>\n",
       "      <td>0.690708</td>\n",
       "      <td>0.308213</td>\n",
       "      <td>0.909507</td>\n",
       "      <td>0.696039</td>\n",
       "      <td>0.308928</td>\n",
       "      <td>0.964703</td>\n",
       "      <td>1</td>\n",
       "    </tr>\n",
       "    <tr>\n",
       "      <th>2</th>\n",
       "      <td>0.306207</td>\n",
       "      <td>0.469462</td>\n",
       "      <td>0.464672</td>\n",
       "      <td>0.306207</td>\n",
       "      <td>0.626503</td>\n",
       "      <td>0.698681</td>\n",
       "      <td>0.300295</td>\n",
       "      <td>0.647919</td>\n",
       "      <td>0.701074</td>\n",
       "      <td>0.300649</td>\n",
       "      <td>...</td>\n",
       "      <td>0.297413</td>\n",
       "      <td>0.489206</td>\n",
       "      <td>0.478466</td>\n",
       "      <td>0.179476</td>\n",
       "      <td>0.819991</td>\n",
       "      <td>0.406259</td>\n",
       "      <td>0.179227</td>\n",
       "      <td>0.819946</td>\n",
       "      <td>0.584069</td>\n",
       "      <td>0</td>\n",
       "    </tr>\n",
       "    <tr>\n",
       "      <th>3</th>\n",
       "      <td>0.122178</td>\n",
       "      <td>0.408863</td>\n",
       "      <td>0.192956</td>\n",
       "      <td>0.122178</td>\n",
       "      <td>0.837382</td>\n",
       "      <td>0.535816</td>\n",
       "      <td>0.463346</td>\n",
       "      <td>0.835105</td>\n",
       "      <td>0.540171</td>\n",
       "      <td>0.463939</td>\n",
       "      <td>...</td>\n",
       "      <td>0.075905</td>\n",
       "      <td>0.078681</td>\n",
       "      <td>0.928371</td>\n",
       "      <td>0.675743</td>\n",
       "      <td>0.322623</td>\n",
       "      <td>0.936670</td>\n",
       "      <td>0.681364</td>\n",
       "      <td>0.323373</td>\n",
       "      <td>0.949591</td>\n",
       "      <td>1</td>\n",
       "    </tr>\n",
       "    <tr>\n",
       "      <th>4</th>\n",
       "      <td>0.151213</td>\n",
       "      <td>0.332531</td>\n",
       "      <td>0.049723</td>\n",
       "      <td>0.151213</td>\n",
       "      <td>0.909650</td>\n",
       "      <td>0.425245</td>\n",
       "      <td>0.573896</td>\n",
       "      <td>0.849572</td>\n",
       "      <td>0.430163</td>\n",
       "      <td>0.574495</td>\n",
       "      <td>...</td>\n",
       "      <td>0.212181</td>\n",
       "      <td>0.123373</td>\n",
       "      <td>0.889067</td>\n",
       "      <td>0.594177</td>\n",
       "      <td>0.404135</td>\n",
       "      <td>0.884411</td>\n",
       "      <td>0.599209</td>\n",
       "      <td>0.404804</td>\n",
       "      <td>0.902027</td>\n",
       "      <td>0</td>\n",
       "    </tr>\n",
       "  </tbody>\n",
       "</table>\n",
       "<p>5 rows × 24 columns</p>\n",
       "</div>"
      ],
      "text/plain": [
       "          0         1         2         3         4         5         6  \\\n",
       "0  0.138163  0.411012  0.142672  0.138163  0.846356  0.681347  0.317074   \n",
       "1  0.882776  0.867288  0.784851  0.882776  0.000000  0.468095  0.529590   \n",
       "2  0.306207  0.469462  0.464672  0.306207  0.626503  0.698681  0.300295   \n",
       "3  0.122178  0.408863  0.192956  0.122178  0.837382  0.535816  0.463346   \n",
       "4  0.151213  0.332531  0.049723  0.151213  0.909650  0.425245  0.573896   \n",
       "\n",
       "          7         8         9  ...        14        15        16        17  \\\n",
       "0  0.865515  0.686090  0.317727  ...  0.219425  0.165335  0.892359  0.618696   \n",
       "1  0.000000  0.463234  0.529020  ...  0.107861  0.044671  0.898907  0.690708   \n",
       "2  0.647919  0.701074  0.300649  ...  0.297413  0.489206  0.478466  0.179476   \n",
       "3  0.835105  0.540171  0.463939  ...  0.075905  0.078681  0.928371  0.675743   \n",
       "4  0.849572  0.430163  0.574495  ...  0.212181  0.123373  0.889067  0.594177   \n",
       "\n",
       "         18        19        20        21        22  Output  \n",
       "0  0.379217  0.881016  0.623812  0.379884  0.881157       0  \n",
       "1  0.308213  0.909507  0.696039  0.308928  0.964703       1  \n",
       "2  0.819991  0.406259  0.179227  0.819946  0.584069       0  \n",
       "3  0.322623  0.936670  0.681364  0.323373  0.949591       1  \n",
       "4  0.404135  0.884411  0.599209  0.404804  0.902027       0  \n",
       "\n",
       "[5 rows x 24 columns]"
      ]
     },
     "execution_count": 46,
     "metadata": {},
     "output_type": "execute_result"
    }
   ],
   "source": [
    "scaled_significant_training_data = pd.DataFrame(scaler.fit_transform(significant_training_data.iloc[:,1:-1]))\n",
    "scaled_significant_training_data['Output'] = significant_training_data.iloc[:,-1]\n",
    "scaled_significant_training_data.head()"
   ]
  },
  {
   "cell_type": "code",
   "execution_count": 47,
   "metadata": {},
   "outputs": [],
   "source": [
    "s_X_train = scaled_significant_training_data.iloc[:,:-1]"
   ]
  },
  {
   "cell_type": "code",
   "execution_count": 48,
   "metadata": {},
   "outputs": [
    {
     "name": "stdout",
     "output_type": "stream",
     "text": [
      "<class 'sklearn.naive_bayes.GaussianNB'>\n",
      "[0.62365591 0.61185984 0.58760108 0.61185984 0.55256065]\n",
      "mean of cross val score:\n",
      "0.597507463119149\n",
      "\n",
      "\n"
     ]
    }
   ],
   "source": [
    "s_gnb =  GaussianNB()\n",
    "cross_val(s_gnb, s_X_train, y_train)"
   ]
  },
  {
   "cell_type": "code",
   "execution_count": 49,
   "metadata": {},
   "outputs": [
    {
     "name": "stdout",
     "output_type": "stream",
     "text": [
      "<class 'sklearn.naive_bayes.ComplementNB'>\n",
      "[0.64784946 0.59838275 0.65768194 0.606469   0.60916442]\n",
      "mean of cross val score:\n",
      "0.6239095151146277\n",
      "\n",
      "\n"
     ]
    }
   ],
   "source": [
    "s_cnb =  ComplementNB()\n",
    "cross_val(s_cnb, s_X_train, y_train)"
   ]
  },
  {
   "cell_type": "code",
   "execution_count": 50,
   "metadata": {},
   "outputs": [
    {
     "name": "stdout",
     "output_type": "stream",
     "text": [
      "<class 'sklearn.discriminant_analysis.QuadraticDiscriminantAnalysis'>\n",
      "[0.5672043  0.52830189 0.58760108 0.58490566 0.69272237]\n",
      "mean of cross val score:\n",
      "0.5921470596759703\n",
      "\n",
      "\n"
     ]
    }
   ],
   "source": [
    "s_qda =  QuadraticDiscriminantAnalysis()\n",
    "cross_val(s_qda, s_X_train, y_train)"
   ]
  },
  {
   "cell_type": "markdown",
   "metadata": {},
   "source": [
    "### Correlation"
   ]
  },
  {
   "cell_type": "code",
   "execution_count": 51,
   "metadata": {},
   "outputs": [
    {
     "data": {
      "image/png": "[encoded data removed]",
      "text/plain": [
       "<Figure size 640x480 with 2 Axes>"
      ]
     },
     "metadata": {},
     "output_type": "display_data"
    }
   ],
   "source": [
    "values = training_data.iloc[:,1:]\n",
    "correlation = values.corr()\n",
    "fig = plt.figure()\n",
    "ax = sns.heatmap(correlation, annot=False, cmap = 'Blues')\n",
    "plt.show()"
   ]
  },
  {
   "cell_type": "code",
   "execution_count": 80,
   "metadata": {},
   "outputs": [
    {
     "data": {
      "image/png": "[encoded data removed]",
      "text/plain": [
       "<Figure size 640x480 with 2 Axes>"
      ]
     },
     "metadata": {},
     "output_type": "display_data"
    }
   ],
   "source": [
    "less_feature_correlation = values.iloc[:,[0,1,2,3,4,6,7,8,9,10,11,12,13,14,15,16,17,19,20,21,22,23,24,25,26]]\n",
    "corr = less_feature_correlation.corr()\n",
    "fig = plt.figure()\n",
    "ax = sns.heatmap(corr, annot=False, cmap = 'Blues')\n",
    "plt.show()"
   ]
  },
  {
   "cell_type": "code",
   "execution_count": 81,
   "metadata": {},
   "outputs": [],
   "source": [
    "scaler = MinMaxScaler()\n",
    "lesscorrelated_X_train = less_feature_correlation.iloc[:,:-1]\n",
    "s_lesscorrelated_X_train = scaler.fit_transform(lesscorrelated_X_train)"
   ]
  },
  {
   "cell_type": "code",
   "execution_count": 82,
   "metadata": {},
   "outputs": [
    {
     "name": "stdout",
     "output_type": "stream",
     "text": [
      "<class 'sklearn.naive_bayes.GaussianNB'>\n",
      "[0.61827957 0.62264151 0.60916442 0.61725067 0.57142857]\n",
      "mean of cross val score:\n",
      "0.6077529490189258\n",
      "\n",
      "\n"
     ]
    }
   ],
   "source": [
    "lesscorr_gnb =  GaussianNB()\n",
    "cross_val(lesscorr_gnb, s_lesscorrelated_X_train, y_train)"
   ]
  },
  {
   "cell_type": "code",
   "execution_count": 83,
   "metadata": {},
   "outputs": [
    {
     "name": "stdout",
     "output_type": "stream",
     "text": [
      "<class 'sklearn.naive_bayes.ComplementNB'>\n",
      "[0.64784946 0.61185984 0.67385445 0.61185984 0.61185984]\n",
      "mean of cross val score:\n",
      "0.6314566849259484\n",
      "\n",
      "\n"
     ]
    }
   ],
   "source": [
    "lesscorr_cnb = ComplementNB()\n",
    "cross_val(lesscorr_cnb, s_lesscorrelated_X_train, y_train)"
   ]
  },
  {
   "cell_type": "code",
   "execution_count": 84,
   "metadata": {},
   "outputs": [
    {
     "name": "stdout",
     "output_type": "stream",
     "text": [
      "<class 'sklearn.discriminant_analysis.QuadraticDiscriminantAnalysis'>\n",
      "[0.75       0.77088949 0.7574124  0.75471698 0.7574124 ]\n",
      "mean of cross val score:\n",
      "0.7580862533692722\n",
      "\n",
      "\n"
     ]
    }
   ],
   "source": [
    "lesscorr_qda = QuadraticDiscriminantAnalysis()\n",
    "cross_val(lesscorr_qda, s_lesscorrelated_X_train, y_train)"
   ]
  },
  {
   "cell_type": "code",
   "execution_count": 57,
   "metadata": {},
   "outputs": [
    {
     "name": "stdout",
     "output_type": "stream",
     "text": [
      "921\n",
      "935\n"
     ]
    }
   ],
   "source": [
    "print(np.sum(y_train == 1))\n",
    "print(np.sum(y_train == 0))"
   ]
  },
  {
   "cell_type": "code",
   "execution_count": 58,
   "metadata": {},
   "outputs": [],
   "source": [
    "less_feature_correlation.to_csv(\"LessCorrelatedFeatures.csv\",index=False)"
   ]
  }
 ],
 "metadata": {
  "kernelspec": {
   "display_name": "BC_ML",
   "language": "python",
   "name": "python3"
  },
  "language_info": {
   "codemirror_mode": {
    "name": "ipython",
    "version": 3
   },
   "file_extension": ".py",
   "mimetype": "text/x-python",
   "name": "python",
   "nbconvert_exporter": "python",
   "pygments_lexer": "ipython3",
   "version": "3.10.13"
  }
 },
 "nbformat": 4,
 "nbformat_minor": 2
}
