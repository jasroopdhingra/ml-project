{
 "cells": [
  {
   "cell_type": "markdown",
   "metadata": {},
   "source": [
    "### Imports"
   ]
  },
  {
   "cell_type": "code",
   "execution_count": 252,
   "metadata": {},
   "outputs": [],
   "source": [
    "import numpy as np\n",
    "import pandas as pd\n",
    "from sklearn.preprocessing import StandardScaler, MinMaxScaler\n",
    "from sklearn.ensemble import VotingClassifier, RandomForestClassifier, AdaBoostClassifier, GradientBoostingClassifier\n",
    "from sklearn.svm import SVC\n",
    "from sklearn.metrics.pairwise import laplacian_kernel\n",
    "from sklearn.tree import DecisionTreeClassifier\n",
    "from sklearn.decomposition import PCA\n",
    "from sklearn.pipeline import Pipeline\n",
    "from sklearn.model_selection import GridSearchCV\n",
    "from sklearn import model_selection\n",
    "from matplotlib import pyplot as plt\n"
   ]
  },
  {
   "cell_type": "markdown",
   "metadata": {},
   "source": [
    "### Training Data"
   ]
  },
  {
   "cell_type": "code",
   "execution_count": 253,
   "metadata": {},
   "outputs": [
    {
     "data": {
      "text/html": [
       "<div>\n",
       "<style scoped>\n",
       "    .dataframe tbody tr th:only-of-type {\n",
       "        vertical-align: middle;\n",
       "    }\n",
       "\n",
       "    .dataframe tbody tr th {\n",
       "        vertical-align: top;\n",
       "    }\n",
       "\n",
       "    .dataframe thead th {\n",
       "        text-align: right;\n",
       "    }\n",
       "</style>\n",
       "<table border=\"1\" class=\"dataframe\">\n",
       "  <thead>\n",
       "    <tr style=\"text-align: right;\">\n",
       "      <th></th>\n",
       "      <th>PDB codes</th>\n",
       "      <th>VDWAALS 1</th>\n",
       "      <th>EEL 1</th>\n",
       "      <th>EGB 1</th>\n",
       "      <th>ESURF 1</th>\n",
       "      <th>GGAS 1</th>\n",
       "      <th>GSOLV 1</th>\n",
       "      <th>TOTAL 1</th>\n",
       "      <th>hbdist_mean1</th>\n",
       "      <th>hbdist_std1</th>\n",
       "      <th>...</th>\n",
       "      <th>GGAS 2</th>\n",
       "      <th>GSOLV 2</th>\n",
       "      <th>TOTAL 2</th>\n",
       "      <th>hbdist_mean2</th>\n",
       "      <th>hbdist_std2</th>\n",
       "      <th>hbnum_mean2</th>\n",
       "      <th>hbnum_std2</th>\n",
       "      <th>hbnum_mean_&lt;.35_2</th>\n",
       "      <th>hbnum_std_&lt;.35_2</th>\n",
       "      <th>Output</th>\n",
       "    </tr>\n",
       "  </thead>\n",
       "  <tbody>\n",
       "    <tr>\n",
       "      <th>0</th>\n",
       "      <td>4hj8 , 2la5</td>\n",
       "      <td>2.857144</td>\n",
       "      <td>6.346850</td>\n",
       "      <td>15.364635</td>\n",
       "      <td>2.727722</td>\n",
       "      <td>14.530470</td>\n",
       "      <td>15.364635</td>\n",
       "      <td>-113.49</td>\n",
       "      <td>-720.46</td>\n",
       "      <td>739.96</td>\n",
       "      <td>...</td>\n",
       "      <td>20.680320</td>\n",
       "      <td>18.000000</td>\n",
       "      <td>-89.04</td>\n",
       "      <td>-3797.32</td>\n",
       "      <td>3785.39</td>\n",
       "      <td>-12.50</td>\n",
       "      <td>-3886.36</td>\n",
       "      <td>3772.90</td>\n",
       "      <td>-113.46</td>\n",
       "      <td>0</td>\n",
       "    </tr>\n",
       "    <tr>\n",
       "      <th>1</th>\n",
       "      <td>1osb , 2mki</td>\n",
       "      <td>2.857144</td>\n",
       "      <td>6.319618</td>\n",
       "      <td>87.585415</td>\n",
       "      <td>4.537219</td>\n",
       "      <td>65.985015</td>\n",
       "      <td>87.585415</td>\n",
       "      <td>-563.32</td>\n",
       "      <td>-11193.39</td>\n",
       "      <td>11154.77</td>\n",
       "      <td>...</td>\n",
       "      <td>11.741259</td>\n",
       "      <td>6.296703</td>\n",
       "      <td>-85.56</td>\n",
       "      <td>-260.76</td>\n",
       "      <td>305.67</td>\n",
       "      <td>-10.57</td>\n",
       "      <td>-346.32</td>\n",
       "      <td>295.11</td>\n",
       "      <td>-51.21</td>\n",
       "      <td>1</td>\n",
       "    </tr>\n",
       "    <tr>\n",
       "      <th>2</th>\n",
       "      <td>5wzj , 1je8</td>\n",
       "      <td>2.857143</td>\n",
       "      <td>5.946841</td>\n",
       "      <td>31.663337</td>\n",
       "      <td>2.959525</td>\n",
       "      <td>40.330669</td>\n",
       "      <td>31.663337</td>\n",
       "      <td>-230.34</td>\n",
       "      <td>130.79</td>\n",
       "      <td>-82.34</td>\n",
       "      <td>...</td>\n",
       "      <td>26.929071</td>\n",
       "      <td>49.412587</td>\n",
       "      <td>-309.02</td>\n",
       "      <td>-25367.65</td>\n",
       "      <td>25386.51</td>\n",
       "      <td>-44.66</td>\n",
       "      <td>-25676.67</td>\n",
       "      <td>25341.85</td>\n",
       "      <td>-334.82</td>\n",
       "      <td>0</td>\n",
       "    </tr>\n",
       "    <tr>\n",
       "      <th>3</th>\n",
       "      <td>3moj , 1wwd</td>\n",
       "      <td>2.857143</td>\n",
       "      <td>6.500905</td>\n",
       "      <td>13.814186</td>\n",
       "      <td>2.719199</td>\n",
       "      <td>18.559441</td>\n",
       "      <td>13.814186</td>\n",
       "      <td>-118.26</td>\n",
       "      <td>-7867.57</td>\n",
       "      <td>7908.33</td>\n",
       "      <td>...</td>\n",
       "      <td>9.180819</td>\n",
       "      <td>9.595405</td>\n",
       "      <td>-69.90</td>\n",
       "      <td>-995.71</td>\n",
       "      <td>1011.87</td>\n",
       "      <td>-8.73</td>\n",
       "      <td>-1065.60</td>\n",
       "      <td>1003.13</td>\n",
       "      <td>-62.47</td>\n",
       "      <td>1</td>\n",
       "    </tr>\n",
       "    <tr>\n",
       "      <th>4</th>\n",
       "      <td>3rn2 , 2kx5</td>\n",
       "      <td>2.857141</td>\n",
       "      <td>7.035113</td>\n",
       "      <td>16.630370</td>\n",
       "      <td>2.416485</td>\n",
       "      <td>7.082917</td>\n",
       "      <td>16.630370</td>\n",
       "      <td>-79.85</td>\n",
       "      <td>-13297.79</td>\n",
       "      <td>13326.09</td>\n",
       "      <td>...</td>\n",
       "      <td>20.099900</td>\n",
       "      <td>13.930070</td>\n",
       "      <td>-90.79</td>\n",
       "      <td>-5001.44</td>\n",
       "      <td>5006.58</td>\n",
       "      <td>-12.27</td>\n",
       "      <td>-5092.23</td>\n",
       "      <td>4994.32</td>\n",
       "      <td>-97.91</td>\n",
       "      <td>0</td>\n",
       "    </tr>\n",
       "  </tbody>\n",
       "</table>\n",
       "<p>5 rows × 28 columns</p>\n",
       "</div>"
      ],
      "text/plain": [
       "     PDB codes  VDWAALS 1     EEL 1      EGB 1   ESURF 1     GGAS 1  \\\n",
       "0  4hj8 , 2la5   2.857144  6.346850  15.364635  2.727722  14.530470   \n",
       "1  1osb , 2mki   2.857144  6.319618  87.585415  4.537219  65.985015   \n",
       "2  5wzj , 1je8   2.857143  5.946841  31.663337  2.959525  40.330669   \n",
       "3  3moj , 1wwd   2.857143  6.500905  13.814186  2.719199  18.559441   \n",
       "4  3rn2 , 2kx5   2.857141  7.035113  16.630370  2.416485   7.082917   \n",
       "\n",
       "     GSOLV 1  TOTAL 1  hbdist_mean1  hbdist_std1  ...     GGAS 2    GSOLV 2  \\\n",
       "0  15.364635  -113.49       -720.46       739.96  ...  20.680320  18.000000   \n",
       "1  87.585415  -563.32     -11193.39     11154.77  ...  11.741259   6.296703   \n",
       "2  31.663337  -230.34        130.79       -82.34  ...  26.929071  49.412587   \n",
       "3  13.814186  -118.26      -7867.57      7908.33  ...   9.180819   9.595405   \n",
       "4  16.630370   -79.85     -13297.79     13326.09  ...  20.099900  13.930070   \n",
       "\n",
       "   TOTAL 2  hbdist_mean2  hbdist_std2  hbnum_mean2  hbnum_std2  \\\n",
       "0   -89.04      -3797.32      3785.39       -12.50    -3886.36   \n",
       "1   -85.56       -260.76       305.67       -10.57     -346.32   \n",
       "2  -309.02     -25367.65     25386.51       -44.66   -25676.67   \n",
       "3   -69.90       -995.71      1011.87        -8.73    -1065.60   \n",
       "4   -90.79      -5001.44      5006.58       -12.27    -5092.23   \n",
       "\n",
       "   hbnum_mean_<.35_2  hbnum_std_<.35_2  Output  \n",
       "0            3772.90           -113.46       0  \n",
       "1             295.11            -51.21       1  \n",
       "2           25341.85           -334.82       0  \n",
       "3            1003.13            -62.47       1  \n",
       "4            4994.32            -97.91       0  \n",
       "\n",
       "[5 rows x 28 columns]"
      ]
     },
     "execution_count": 253,
     "metadata": {},
     "output_type": "execute_result"
    }
   ],
   "source": [
    "training_data = pd.read_csv(\"../training data.csv\")\n",
    "training_data.head()"
   ]
  },
  {
   "cell_type": "markdown",
   "metadata": {},
   "source": [
    "### Useful functions"
   ]
  },
  {
   "cell_type": "code",
   "execution_count": 254,
   "metadata": {},
   "outputs": [],
   "source": [
    "def cross_val(model, x, y, cv = 5, fit_params = None):\n",
    "    \"\"\"\n",
    "    It prints the mean of cross_val_score\n",
    "\n",
    "    \"\"\"\n",
    "    from sklearn.model_selection import cross_val_score\n",
    "    print(type(model))\n",
    "    score = cross_val_score(model, x, y, cv = cv, n_jobs = -1, fit_params = fit_params)\n",
    "    print(score)\n",
    "    print(\"mean of cross val score:\")\n",
    "    print(np.mean(score))\n",
    "    print()\n",
    "    print()\n",
    "\n",
    "def simple_test(model, x, y):\n",
    "    \"\"\"\n",
    "    For a model already trained\n",
    "    \"\"\"\n",
    "\n",
    "    from sklearn.metrics import f1_score, precision_score, recall_score, accuracy_score\n",
    "    from sklearn.metrics import confusion_matrix\n",
    "\n",
    "\n",
    "    y_pred = model.predict(x)\n",
    "\n",
    "    print(\"--------------results-----------------------------\")\n",
    "    print(\"accuracy\\t\", accuracy_score(y, y_pred))\n",
    "    print(\"f1 score\\t\", f1_score(y, y_pred))\n",
    "    print(\"precision\\t\", precision_score(y, y_pred))\n",
    "    print(\"recall\\t\\t\", recall_score(y, y_pred))\n",
    "    print(\"confusion matrix:\\n\", confusion_matrix(y, y_pred))\n",
    "    print()"
   ]
  },
  {
   "cell_type": "code",
   "execution_count": 255,
   "metadata": {},
   "outputs": [],
   "source": [
    "x_train = np.array(training_data.iloc[:,1:-1])\n",
    "y_train = np.array(training_data.iloc[:,-1])"
   ]
  },
  {
   "cell_type": "markdown",
   "metadata": {},
   "source": [
    "### SVM"
   ]
  },
  {
   "cell_type": "code",
   "execution_count": 256,
   "metadata": {},
   "outputs": [
    {
     "name": "stdout",
     "output_type": "stream",
     "text": [
      "{'svm__C': 1, 'svm__gamma': 0.25, 'svm__kernel': <function laplacian_kernel at 0x000002D17A8AECB0>}\n",
      "0.8372808161609135\n"
     ]
    }
   ],
   "source": [
    "svm_pipeline = Pipeline([\n",
    "    (\"scaler\", StandardScaler()),\n",
    "    (\"svm\", SVC())\n",
    "])\n",
    "\n",
    "svm_params = [{\n",
    "    \"svm__C\" : [0.1, 0.8, 1],\n",
    "    \"svm__kernel\": [\"poly\", \"rbf\", \"sigmoid\", laplacian_kernel],\n",
    "    \"svm__gamma\" : [0.25, 0.3, 0.5, 'auto']\n",
    "}]\n",
    "\n",
    "grid_search = GridSearchCV(svm_pipeline, svm_params, cv = 5, n_jobs= -1)\n",
    "\n",
    "grid_search.fit(x_train,y_train)\n",
    "print(grid_search.best_params_)\n",
    "print(grid_search.best_score_)"
   ]
  },
  {
   "cell_type": "code",
   "execution_count": 257,
   "metadata": {},
   "outputs": [],
   "source": [
    "svm_clf = Pipeline([\n",
    "    (\"scaler\", StandardScaler()),\n",
    "    (\"svm_clf\", SVC(C=1, gamma=0.25, kernel=laplacian_kernel))\n",
    "])"
   ]
  },
  {
   "cell_type": "code",
   "execution_count": 258,
   "metadata": {},
   "outputs": [
    {
     "name": "stdout",
     "output_type": "stream",
     "text": [
      "<class 'sklearn.pipeline.Pipeline'>\n",
      "[0.84408602 0.82749326 0.83827493 0.8490566  0.82749326]\n",
      "mean of cross val score:\n",
      "0.8372808161609135\n",
      "\n",
      "\n"
     ]
    }
   ],
   "source": [
    "cross_val(svm_clf, x_train, y_train)"
   ]
  },
  {
   "cell_type": "markdown",
   "metadata": {},
   "source": [
    "### Random Forest"
   ]
  },
  {
   "cell_type": "code",
   "execution_count": 259,
   "metadata": {},
   "outputs": [
    {
     "name": "stdout",
     "output_type": "stream",
     "text": [
      "{'rf__max_features': 0.6}\n",
      "0.9202576587543112\n"
     ]
    }
   ],
   "source": [
    "rf_pipeline = Pipeline([\n",
    "    (\"Scaler\", StandardScaler()),\n",
    "    (\"rf\", RandomForestClassifier(n_estimators=100, criterion='entropy', max_depth=22))\n",
    "])\n",
    "\n",
    "rf_params = [{\n",
    "    \"rf__max_features\" : [0.25, 0.3, 0.4, 0.5, 0.6, 0.8, \"sqrt\"]\n",
    "}]\n",
    "\n",
    "grid_search = GridSearchCV(rf_pipeline, rf_params, cv = 5, n_jobs= -1)\n",
    "\n",
    "grid_search.fit(x_train,y_train)\n",
    "print(grid_search.best_params_)\n",
    "print(grid_search.best_score_)"
   ]
  },
  {
   "cell_type": "code",
   "execution_count": 260,
   "metadata": {},
   "outputs": [],
   "source": [
    "rf_clf = Pipeline([\n",
    "    (\"Scaler\", StandardScaler()),\n",
    "    (\"rf_clf\", RandomForestClassifier(n_estimators=100, criterion='entropy', max_depth=22))\n",
    "])"
   ]
  },
  {
   "cell_type": "code",
   "execution_count": 261,
   "metadata": {},
   "outputs": [
    {
     "name": "stdout",
     "output_type": "stream",
     "text": [
      "<class 'sklearn.pipeline.Pipeline'>\n",
      "[0.91666667 0.92183288 0.90566038 0.92991914 0.90026954]\n",
      "mean of cross val score:\n",
      "0.914869721473495\n",
      "\n",
      "\n"
     ]
    }
   ],
   "source": [
    "cross_val(rf_clf, x_train, y_train)"
   ]
  },
  {
   "cell_type": "markdown",
   "metadata": {},
   "source": [
    "### AdaBoosting"
   ]
  },
  {
   "cell_type": "code",
   "execution_count": 262,
   "metadata": {},
   "outputs": [
    {
     "name": "stdout",
     "output_type": "stream",
     "text": [
      "{'ada_clf__n_estimators': 10000}\n",
      "0.973596498855172\n"
     ]
    }
   ],
   "source": [
    "ada_pipeline = Pipeline([\n",
    "    (\"Scaler\", StandardScaler()),\n",
    "    (\"ada_clf\", AdaBoostClassifier(DecisionTreeClassifier(max_depth=1), algorithm=\"SAMME.R\", learning_rate=0.75))\n",
    "])\n",
    "\n",
    "ada_params = [{\n",
    "    \"ada_clf__n_estimators\": [1000, 4000, 10000]\n",
    "}]\n",
    "\n",
    "grid_search = GridSearchCV(ada_pipeline, ada_params, cv = 5, n_jobs= -1 )\n",
    "\n",
    "grid_search.fit(x_train,y_train)\n",
    "print(grid_search.best_params_)\n",
    "print(grid_search.best_score_)\n"
   ]
  },
  {
   "cell_type": "code",
   "execution_count": 263,
   "metadata": {},
   "outputs": [],
   "source": [
    "ada_clf = Pipeline([\n",
    "    (\"Scaler\", StandardScaler()),\n",
    "    (\"ada_clf\", AdaBoostClassifier(DecisionTreeClassifier(max_depth=1), n_estimators=10000, algorithm=\"SAMME.R\", learning_rate=0.75))\n",
    "])"
   ]
  },
  {
   "cell_type": "code",
   "execution_count": 264,
   "metadata": {},
   "outputs": [
    {
     "name": "stdout",
     "output_type": "stream",
     "text": [
      "<class 'sklearn.pipeline.Pipeline'>\n",
      "[0.97849462 0.96495957 0.97574124 0.97574124 0.97304582]\n",
      "mean of cross val score:\n",
      "0.973596498855172\n",
      "\n",
      "\n"
     ]
    }
   ],
   "source": [
    "cross_val(ada_clf, x_train, y_train)"
   ]
  },
  {
   "cell_type": "markdown",
   "metadata": {},
   "source": [
    "### GradientBoosting"
   ]
  },
  {
   "cell_type": "code",
   "execution_count": 265,
   "metadata": {},
   "outputs": [
    {
     "name": "stdout",
     "output_type": "stream",
     "text": [
      "{'gra_clf__max_depth': 1, 'gra_clf__n_estimators': 1480}\n",
      "0.9725168825899198\n"
     ]
    }
   ],
   "source": [
    "gra_pipeline = Pipeline([\n",
    "    (\"Scaler\", StandardScaler()),\n",
    "    (\"gra_clf\", GradientBoostingClassifier(learning_rate=1.0, random_state=0))\n",
    "])\n",
    "\n",
    "gra_params = [{\n",
    "    \"gra_clf__n_estimators\" : [1000, 1480, 1550, 3000],\n",
    "    \"gra_clf__max_depth\": [1,4]\n",
    "}]\n",
    "\n",
    "grid_search = GridSearchCV(gra_pipeline, gra_params, cv = 5, n_jobs= -1 )\n",
    "grid_search.fit(x_train,y_train)\n",
    "print(grid_search.best_params_)\n",
    "print(grid_search.best_score_)"
   ]
  },
  {
   "cell_type": "code",
   "execution_count": 266,
   "metadata": {},
   "outputs": [],
   "source": [
    "gra_clf = Pipeline([\n",
    "    (\"Scaler\", StandardScaler()),\n",
    "    (\"gra_clf\", GradientBoostingClassifier(n_estimators = 1480, learning_rate=1.0, max_depth=1, random_state=0))\n",
    "])"
   ]
  },
  {
   "cell_type": "code",
   "execution_count": 267,
   "metadata": {},
   "outputs": [
    {
     "name": "stdout",
     "output_type": "stream",
     "text": [
      "<class 'sklearn.pipeline.Pipeline'>\n",
      "[0.9811828  0.96765499 0.97574124 0.97843666 0.95956873]\n",
      "mean of cross val score:\n",
      "0.9725168825899198\n",
      "\n",
      "\n"
     ]
    }
   ],
   "source": [
    "cross_val(gra_clf, x_train, y_train)"
   ]
  },
  {
   "cell_type": "markdown",
   "metadata": {},
   "source": [
    "### Voting"
   ]
  },
  {
   "cell_type": "code",
   "execution_count": 268,
   "metadata": {},
   "outputs": [],
   "source": [
    "voting_clf0 = VotingClassifier(\n",
    " estimators=[('rf', rf_clf), ('ada', ada_clf), ('gra', gra_clf)],\n",
    " voting='hard'\n",
    " )"
   ]
  },
  {
   "cell_type": "code",
   "execution_count": 269,
   "metadata": {},
   "outputs": [
    {
     "name": "stdout",
     "output_type": "stream",
     "text": [
      "<class 'sklearn.ensemble._voting.VotingClassifier'>\n",
      "[0.98387097 0.96495957 0.97304582 0.98382749 0.9703504 ]\n",
      "mean of cross val score:\n",
      "0.9752108512303279\n",
      "\n",
      "\n"
     ]
    }
   ],
   "source": [
    "cross_val(voting_clf0, x_train, y_train)"
   ]
  },
  {
   "cell_type": "code",
   "execution_count": 270,
   "metadata": {},
   "outputs": [],
   "source": [
    "voting_clf1 = VotingClassifier(\n",
    " estimators=[('svm', svm_clf), ('rf', rf_clf), ('ada', ada_clf)],\n",
    " voting='hard'\n",
    " )"
   ]
  },
  {
   "cell_type": "code",
   "execution_count": 271,
   "metadata": {},
   "outputs": [
    {
     "name": "stdout",
     "output_type": "stream",
     "text": [
      "<class 'sklearn.ensemble._voting.VotingClassifier'>\n",
      "[0.94354839 0.92722372 0.94339623 0.95687332 0.94339623]\n",
      "mean of cross val score:\n",
      "0.942887574993479\n",
      "\n",
      "\n"
     ]
    }
   ],
   "source": [
    "cross_val(voting_clf1, x_train, y_train)"
   ]
  },
  {
   "cell_type": "code",
   "execution_count": 272,
   "metadata": {},
   "outputs": [],
   "source": [
    "voting_clf2 = VotingClassifier(\n",
    " estimators=[('svm', svm_clf), ('rf', rf_clf), ('gra', gra_clf)],\n",
    " voting='hard'\n",
    " )"
   ]
  },
  {
   "cell_type": "code",
   "execution_count": 273,
   "metadata": {},
   "outputs": [
    {
     "name": "stdout",
     "output_type": "stream",
     "text": [
      "<class 'sklearn.ensemble._voting.VotingClassifier'>\n",
      "[0.94086022 0.93800539 0.93261456 0.9541779  0.93261456]\n",
      "mean of cross val score:\n",
      "0.9396545227951194\n",
      "\n",
      "\n"
     ]
    }
   ],
   "source": [
    "cross_val(voting_clf2, x_train, y_train)"
   ]
  },
  {
   "cell_type": "code",
   "execution_count": 274,
   "metadata": {},
   "outputs": [],
   "source": [
    "voting_clf3 = VotingClassifier(\n",
    " estimators=[('svm', svm_clf), ('ada', ada_clf), ('gra', gra_clf)],\n",
    " voting='hard'\n",
    " )"
   ]
  },
  {
   "cell_type": "code",
   "execution_count": 275,
   "metadata": {},
   "outputs": [
    {
     "name": "stdout",
     "output_type": "stream",
     "text": [
      "<class 'sklearn.ensemble._voting.VotingClassifier'>\n",
      "[0.9811828  0.96226415 0.98113208 0.97574124 0.9703504 ]\n",
      "mean of cross val score:\n",
      "0.9741341332637742\n",
      "\n",
      "\n"
     ]
    }
   ],
   "source": [
    "cross_val(voting_clf3, x_train, y_train)"
   ]
  },
  {
   "cell_type": "code",
   "execution_count": 276,
   "metadata": {},
   "outputs": [],
   "source": [
    "voting_clf4 = VotingClassifier(\n",
    " estimators=[('svm', svm_clf), ('rf', rf_clf), ('ada', ada_clf), ('gra', gra_clf)],\n",
    " voting='hard'\n",
    " )"
   ]
  },
  {
   "cell_type": "code",
   "execution_count": 277,
   "metadata": {},
   "outputs": [
    {
     "name": "stdout",
     "output_type": "stream",
     "text": [
      "<class 'sklearn.ensemble._voting.VotingClassifier'>\n",
      "[0.94623656 0.94070081 0.95148248 0.96226415 0.94878706]\n",
      "mean of cross val score:\n",
      "0.9498942120974988\n",
      "\n",
      "\n"
     ]
    }
   ],
   "source": [
    "cross_val(voting_clf4, x_train, y_train)"
   ]
  },
  {
   "cell_type": "markdown",
   "metadata": {},
   "source": [
    "Let us try the best classifiers on the training data whose features were selected according to Fisher information."
   ]
  },
  {
   "cell_type": "code",
   "execution_count": 278,
   "metadata": {},
   "outputs": [
    {
     "data": {
      "text/html": [
       "<div>\n",
       "<style scoped>\n",
       "    .dataframe tbody tr th:only-of-type {\n",
       "        vertical-align: middle;\n",
       "    }\n",
       "\n",
       "    .dataframe tbody tr th {\n",
       "        vertical-align: top;\n",
       "    }\n",
       "\n",
       "    .dataframe thead th {\n",
       "        text-align: right;\n",
       "    }\n",
       "</style>\n",
       "<table border=\"1\" class=\"dataframe\">\n",
       "  <thead>\n",
       "    <tr style=\"text-align: right;\">\n",
       "      <th></th>\n",
       "      <th>EEL 1</th>\n",
       "      <th>EGB 1</th>\n",
       "      <th>ESURF 1</th>\n",
       "      <th>GGAS 1</th>\n",
       "      <th>GSOLV 1</th>\n",
       "      <th>TOTAL 1</th>\n",
       "      <th>hbdist_mean1</th>\n",
       "      <th>hbdist_std1</th>\n",
       "      <th>hbnum_mean1</th>\n",
       "      <th>hbnum_std1</th>\n",
       "      <th>...</th>\n",
       "      <th>GGAS 2</th>\n",
       "      <th>GSOLV 2</th>\n",
       "      <th>TOTAL 2</th>\n",
       "      <th>hbdist_mean2</th>\n",
       "      <th>hbdist_std2</th>\n",
       "      <th>hbnum_mean2</th>\n",
       "      <th>hbnum_std2</th>\n",
       "      <th>hbnum_mean_&lt;.35_2</th>\n",
       "      <th>hbnum_std_&lt;.35_2</th>\n",
       "      <th>Output</th>\n",
       "    </tr>\n",
       "  </thead>\n",
       "  <tbody>\n",
       "    <tr>\n",
       "      <th>0</th>\n",
       "      <td>6.346850</td>\n",
       "      <td>15.364635</td>\n",
       "      <td>2.727722</td>\n",
       "      <td>14.530470</td>\n",
       "      <td>15.364635</td>\n",
       "      <td>-113.49</td>\n",
       "      <td>-720.46</td>\n",
       "      <td>739.96</td>\n",
       "      <td>-13.55</td>\n",
       "      <td>-833.96</td>\n",
       "      <td>...</td>\n",
       "      <td>20.680320</td>\n",
       "      <td>18.000000</td>\n",
       "      <td>-89.04</td>\n",
       "      <td>-3797.32</td>\n",
       "      <td>3785.39</td>\n",
       "      <td>-12.50</td>\n",
       "      <td>-3886.36</td>\n",
       "      <td>3772.90</td>\n",
       "      <td>-113.46</td>\n",
       "      <td>0</td>\n",
       "    </tr>\n",
       "    <tr>\n",
       "      <th>1</th>\n",
       "      <td>6.319618</td>\n",
       "      <td>87.585415</td>\n",
       "      <td>4.537219</td>\n",
       "      <td>65.985015</td>\n",
       "      <td>87.585415</td>\n",
       "      <td>-563.32</td>\n",
       "      <td>-11193.39</td>\n",
       "      <td>11154.77</td>\n",
       "      <td>-72.18</td>\n",
       "      <td>-11756.71</td>\n",
       "      <td>...</td>\n",
       "      <td>11.741259</td>\n",
       "      <td>6.296703</td>\n",
       "      <td>-85.56</td>\n",
       "      <td>-260.76</td>\n",
       "      <td>305.67</td>\n",
       "      <td>-10.57</td>\n",
       "      <td>-346.32</td>\n",
       "      <td>295.11</td>\n",
       "      <td>-51.21</td>\n",
       "      <td>1</td>\n",
       "    </tr>\n",
       "    <tr>\n",
       "      <th>2</th>\n",
       "      <td>5.946841</td>\n",
       "      <td>31.663337</td>\n",
       "      <td>2.959525</td>\n",
       "      <td>40.330669</td>\n",
       "      <td>31.663337</td>\n",
       "      <td>-230.34</td>\n",
       "      <td>130.79</td>\n",
       "      <td>-82.34</td>\n",
       "      <td>-28.29</td>\n",
       "      <td>-99.55</td>\n",
       "      <td>...</td>\n",
       "      <td>26.929071</td>\n",
       "      <td>49.412587</td>\n",
       "      <td>-309.02</td>\n",
       "      <td>-25367.65</td>\n",
       "      <td>25386.51</td>\n",
       "      <td>-44.66</td>\n",
       "      <td>-25676.67</td>\n",
       "      <td>25341.85</td>\n",
       "      <td>-334.82</td>\n",
       "      <td>0</td>\n",
       "    </tr>\n",
       "    <tr>\n",
       "      <th>3</th>\n",
       "      <td>6.500905</td>\n",
       "      <td>13.814186</td>\n",
       "      <td>2.719199</td>\n",
       "      <td>18.559441</td>\n",
       "      <td>13.814186</td>\n",
       "      <td>-118.26</td>\n",
       "      <td>-7867.57</td>\n",
       "      <td>7908.33</td>\n",
       "      <td>-15.61</td>\n",
       "      <td>-7985.83</td>\n",
       "      <td>...</td>\n",
       "      <td>9.180819</td>\n",
       "      <td>9.595405</td>\n",
       "      <td>-69.90</td>\n",
       "      <td>-995.71</td>\n",
       "      <td>1011.87</td>\n",
       "      <td>-8.73</td>\n",
       "      <td>-1065.60</td>\n",
       "      <td>1003.13</td>\n",
       "      <td>-62.47</td>\n",
       "      <td>1</td>\n",
       "    </tr>\n",
       "    <tr>\n",
       "      <th>4</th>\n",
       "      <td>7.035113</td>\n",
       "      <td>16.630370</td>\n",
       "      <td>2.416485</td>\n",
       "      <td>7.082917</td>\n",
       "      <td>16.630370</td>\n",
       "      <td>-79.85</td>\n",
       "      <td>-13297.79</td>\n",
       "      <td>13326.09</td>\n",
       "      <td>-14.63</td>\n",
       "      <td>-13377.64</td>\n",
       "      <td>...</td>\n",
       "      <td>20.099900</td>\n",
       "      <td>13.930070</td>\n",
       "      <td>-90.79</td>\n",
       "      <td>-5001.44</td>\n",
       "      <td>5006.58</td>\n",
       "      <td>-12.27</td>\n",
       "      <td>-5092.23</td>\n",
       "      <td>4994.32</td>\n",
       "      <td>-97.91</td>\n",
       "      <td>0</td>\n",
       "    </tr>\n",
       "  </tbody>\n",
       "</table>\n",
       "<p>5 rows × 25 columns</p>\n",
       "</div>"
      ],
      "text/plain": [
       "      EEL 1      EGB 1   ESURF 1     GGAS 1    GSOLV 1  TOTAL 1  hbdist_mean1  \\\n",
       "0  6.346850  15.364635  2.727722  14.530470  15.364635  -113.49       -720.46   \n",
       "1  6.319618  87.585415  4.537219  65.985015  87.585415  -563.32     -11193.39   \n",
       "2  5.946841  31.663337  2.959525  40.330669  31.663337  -230.34        130.79   \n",
       "3  6.500905  13.814186  2.719199  18.559441  13.814186  -118.26      -7867.57   \n",
       "4  7.035113  16.630370  2.416485   7.082917  16.630370   -79.85     -13297.79   \n",
       "\n",
       "   hbdist_std1  hbnum_mean1  hbnum_std1  ...     GGAS 2    GSOLV 2  TOTAL 2  \\\n",
       "0       739.96       -13.55     -833.96  ...  20.680320  18.000000   -89.04   \n",
       "1     11154.77       -72.18   -11756.71  ...  11.741259   6.296703   -85.56   \n",
       "2       -82.34       -28.29      -99.55  ...  26.929071  49.412587  -309.02   \n",
       "3      7908.33       -15.61    -7985.83  ...   9.180819   9.595405   -69.90   \n",
       "4     13326.09       -14.63   -13377.64  ...  20.099900  13.930070   -90.79   \n",
       "\n",
       "   hbdist_mean2  hbdist_std2  hbnum_mean2  hbnum_std2  hbnum_mean_<.35_2  \\\n",
       "0      -3797.32      3785.39       -12.50    -3886.36            3772.90   \n",
       "1       -260.76       305.67       -10.57     -346.32             295.11   \n",
       "2     -25367.65     25386.51       -44.66   -25676.67           25341.85   \n",
       "3       -995.71      1011.87        -8.73    -1065.60            1003.13   \n",
       "4      -5001.44      5006.58       -12.27    -5092.23            4994.32   \n",
       "\n",
       "   hbnum_std_<.35_2  Output  \n",
       "0           -113.46       0  \n",
       "1            -51.21       1  \n",
       "2           -334.82       0  \n",
       "3            -62.47       1  \n",
       "4            -97.91       0  \n",
       "\n",
       "[5 rows x 25 columns]"
      ]
     },
     "execution_count": 278,
     "metadata": {},
     "output_type": "execute_result"
    }
   ],
   "source": [
    "fisher_training_data = pd.read_csv(\"fisher_trainingdata.csv\")\n",
    "fisher_training_data.head()"
   ]
  },
  {
   "cell_type": "code",
   "execution_count": 279,
   "metadata": {},
   "outputs": [],
   "source": [
    "fisher_x_train = np.array(fisher_training_data.iloc[:,:-1])"
   ]
  },
  {
   "cell_type": "code",
   "execution_count": 280,
   "metadata": {},
   "outputs": [
    {
     "name": "stdout",
     "output_type": "stream",
     "text": [
      "<class 'sklearn.ensemble._voting.VotingClassifier'>\n",
      "[0.97849462 0.96765499 0.96765499 0.9703504  0.9703504 ]\n",
      "mean of cross val score:\n",
      "0.9709010810654146\n",
      "\n",
      "\n"
     ]
    }
   ],
   "source": [
    "cross_val(voting_clf0, fisher_x_train, y_train)"
   ]
  },
  {
   "cell_type": "code",
   "execution_count": 281,
   "metadata": {},
   "outputs": [
    {
     "name": "stdout",
     "output_type": "stream",
     "text": [
      "<class 'sklearn.pipeline.Pipeline'>\n",
      "[0.9811828  0.96495957 0.96765499 0.97574124 0.96765499]\n",
      "mean of cross val score:\n",
      "0.9714387154740167\n",
      "\n",
      "\n"
     ]
    }
   ],
   "source": [
    "cross_val(ada_clf, fisher_x_train, y_train)"
   ]
  },
  {
   "cell_type": "code",
   "execution_count": 282,
   "metadata": {},
   "outputs": [
    {
     "name": "stdout",
     "output_type": "stream",
     "text": [
      "<class 'sklearn.pipeline.Pipeline'>\n",
      "[0.97311828 0.96226415 0.96765499 0.96765499 0.96765499]\n",
      "mean of cross val score:\n",
      "0.9676694780164043\n",
      "\n",
      "\n"
     ]
    }
   ],
   "source": [
    "cross_val(gra_clf, fisher_x_train, y_train)"
   ]
  },
  {
   "cell_type": "markdown",
   "metadata": {},
   "source": [
    "Let us try it on the less correlated training data."
   ]
  },
  {
   "cell_type": "code",
   "execution_count": 283,
   "metadata": {},
   "outputs": [],
   "source": [
    "less_correlated_train = pd.read_csv(\"LessCorrelatedFeatures.csv\")\n",
    "lc_x_train = np.array(less_correlated_train.iloc[:,:-1])"
   ]
  },
  {
   "cell_type": "code",
   "execution_count": 284,
   "metadata": {},
   "outputs": [
    {
     "name": "stdout",
     "output_type": "stream",
     "text": [
      "<class 'sklearn.ensemble._voting.VotingClassifier'>\n",
      "[0.9811828  0.96495957 0.97304582 0.9703504  0.97574124]\n",
      "mean of cross val score:\n",
      "0.9730559661478713\n",
      "\n",
      "\n"
     ]
    }
   ],
   "source": [
    "cross_val(voting_clf0, lc_x_train, y_train)"
   ]
  },
  {
   "cell_type": "code",
   "execution_count": 285,
   "metadata": {},
   "outputs": [
    {
     "name": "stdout",
     "output_type": "stream",
     "text": [
      "<class 'sklearn.pipeline.Pipeline'>\n",
      "[0.97849462 0.96226415 0.97574124 0.97304582 0.9703504 ]\n",
      "mean of cross val score:\n",
      "0.9719792481813176\n",
      "\n",
      "\n"
     ]
    }
   ],
   "source": [
    "cross_val(ada_clf, lc_x_train, y_train)"
   ]
  },
  {
   "cell_type": "code",
   "execution_count": 286,
   "metadata": {},
   "outputs": [
    {
     "name": "stdout",
     "output_type": "stream",
     "text": [
      "<class 'sklearn.pipeline.Pipeline'>\n",
      "[0.97849462 0.96495957 0.97843666 0.97304582 0.97304582]\n",
      "mean of cross val score:\n",
      "0.9735964988551722\n",
      "\n",
      "\n"
     ]
    }
   ],
   "source": [
    "cross_val(gra_clf, lc_x_train, y_train)"
   ]
  },
  {
   "cell_type": "markdown",
   "metadata": {},
   "source": [
    "## Recap: Best Classifiers"
   ]
  },
  {
   "cell_type": "markdown",
   "metadata": {},
   "source": [
    "1. Voting Classifier with Random Forest, Ada Boost and Gradient Boosting.  \n",
    "[0.9811828  0.96765499 0.96495957 0.97304582 0.9703504 ]  \n",
    "mean of cross val score:  \n",
    "0.9714387154740167"
   ]
  },
  {
   "cell_type": "markdown",
   "metadata": {},
   "source": [
    "2. Voting  Classifier with SVM, Ada Boost and Gradient Boosting.  \n",
    "    [0.9811828  0.96226415 0.98113208 0.97574124 0.9703504 ]  \n",
    "    mean of cross val score:  \n",
    "    0.9741341332637742  \n"
   ]
  },
  {
   "cell_type": "markdown",
   "metadata": {},
   "source": [
    "3. Separately Gradient Boosting on less correlated data and Ada Boost.  \n",
    "\n",
    "    Gradient Boosting on less correlated data:  \n",
    "    [0.97849462 0.96495957 0.97843666 0.97304582 0.97304582]  \n",
    "    mean of cross val score:  \n",
    "    0.9735964988551722  \n",
    "\n",
    "\n",
    "    Ada Boost:  \n",
    "    [0.97849462 0.96495957 0.97574124 0.97574124 0.97304582]  \n",
    "    mean of cross val score:  \n",
    "    0.973596498855172  \n"
   ]
  }
 ],
 "metadata": {
  "kernelspec": {
   "display_name": "BC_ML",
   "language": "python",
   "name": "python3"
  },
  "language_info": {
   "codemirror_mode": {
    "name": "ipython",
    "version": 3
   },
   "file_extension": ".py",
   "mimetype": "text/x-python",
   "name": "python",
   "nbconvert_exporter": "python",
   "pygments_lexer": "ipython3",
   "version": "3.10.13"
  }
 },
 "nbformat": 4,
 "nbformat_minor": 2
}
